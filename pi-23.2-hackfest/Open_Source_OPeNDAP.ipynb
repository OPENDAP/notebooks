{
 "cells": [
  {
   "cell_type": "markdown",
   "id": "d067278f",
   "metadata": {},
   "source": [
    "# Open source? OPeNDAP!\n",
    "\n",
    "**PI 23.1 Hackfest, James Gallagher and Owen Littlejohns**\n",
    "\n",
    "New CI/CD was added to the `pydap` GitHub repository to deploy the package to the Python Package Index ([PyPI](https://pypi.org/project/pydap/)).\n",
    "\n",
    "![](pydap_new_workflow.png)\n",
    "\n",
    "...and now the package has been deployed with some exciting new updates:\n",
    "\n",
    "![](pydap_pypi.png)\n",
    "\n",
    "## What does this mean:\n",
    "\n",
    "DAP4 compatibility with `pydap` is now available from PyPI and conda! A lot of collections have variables and metadata with data types inconsistent with DAP2. These collections should now work with `pydap`!\n",
    "\n",
    "### What was done:\n",
    "\n",
    "* Added a GitHub workflow with actions to publish `pydap` to PyPI.\n",
    "* Configured to publish for a new GitHub release, or for manual invocation by a maintainer.\n",
    "* Usual fun-and-games debugging actions.\n",
    "\n",
    "### Gotchas:\n",
    "\n",
    "* PyPI needs coaxing to work with GitHub flavour markdown.\n",
    "* To request DAP4 from `pydap`, must specify the \"dap4\" protocol in the URL.\n",
    "* Need to be a maintainer of the PyPI project, to have an API token with sufficient privilege.\n",
    "* Need to be an admin of the GitHub repository to add the PyPI API token as a repository secret."
   ]
  },
  {
   "cell_type": "code",
   "execution_count": null,
   "id": "aa8fd731",
   "metadata": {},
   "outputs": [],
   "source": [
    "from pydap.client import open_url"
   ]
  },
  {
   "cell_type": "markdown",
   "id": "f3378aa2",
   "metadata": {},
   "source": [
    "## Before (DAP2):"
   ]
  },
  {
   "cell_type": "code",
   "execution_count": null,
   "id": "2b3bd09d",
   "metadata": {},
   "outputs": [],
   "source": [
    "dataset_dap2 = open_url('https://opendap.uat.earthdata.nasa.gov/collections/C1234714698-EEDTEST/granules/SC:ATL08.005:230405690')"
   ]
  },
  {
   "cell_type": "markdown",
   "id": "5b3cde43",
   "metadata": {},
   "source": [
    "## Now (DAP4)"
   ]
  },
  {
   "cell_type": "code",
   "execution_count": null,
   "id": "96c1e584",
   "metadata": {},
   "outputs": [],
   "source": [
    "dataset_dap4 = open_url('dap4://opendap.uat.earthdata.nasa.gov/collections/C1234714698-EEDTEST/granules/SC:ATL08.005:230405690')\n",
    "dataset_dap4"
   ]
  },
  {
   "cell_type": "code",
   "execution_count": null,
   "id": "1fed83ca",
   "metadata": {},
   "outputs": [],
   "source": [
    "dataset_dap4['/gt1r/land_segments/surf_type'].attributes"
   ]
  },
  {
   "cell_type": "code",
   "execution_count": null,
   "id": "4fcae0fb",
   "metadata": {},
   "outputs": [],
   "source": [
    "dataset_dap4['/gt1r/land_segments/surf_type'].shape"
   ]
  },
  {
   "cell_type": "code",
   "execution_count": null,
   "id": "3241292a",
   "metadata": {},
   "outputs": [],
   "source": [
    "dataset_dap4['/gt1r/land_segments/surf_type'].dimensions"
   ]
  },
  {
   "cell_type": "markdown",
   "id": "fb8ad50b",
   "metadata": {},
   "source": [
    "## `pydap` uses lazy loading:"
   ]
  },
  {
   "cell_type": "code",
   "execution_count": null,
   "id": "971f4c78",
   "metadata": {},
   "outputs": [],
   "source": [
    "dataset_dap4['/gt1r/land_segments/surf_type'][:10, :]"
   ]
  },
  {
   "cell_type": "markdown",
   "id": "fd87af26",
   "metadata": {},
   "source": [
    "## The future?\n",
    "\n",
    "* Can use `pydap` to utilise lazy loading and make more performant requests to OPeNDAP.\n",
    "* Experiment with `pydap` in HOSS."
   ]
  }
 ],
 "metadata": {
  "kernelspec": {
   "display_name": "Python 3 (ipykernel)",
   "language": "python",
   "name": "python3"
  },
  "language_info": {
   "codemirror_mode": {
    "name": "ipython",
    "version": 3
   },
   "file_extension": ".py",
   "mimetype": "text/x-python",
   "name": "python",
   "nbconvert_exporter": "python",
   "pygments_lexer": "ipython3",
   "version": "3.10.10"
  }
 },
 "nbformat": 4,
 "nbformat_minor": 5
}
