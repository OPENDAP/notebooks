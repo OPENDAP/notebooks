{
 "cells": [
  {
   "cell_type": "markdown",
   "id": "350cd993",
   "metadata": {},
   "source": [
    "# Using PyDAP for simple remote data access using DAP4\n",
    "\n",
    "This notebook contains a simple example of how to use the NetCDF Python interface and DAP4 to pull data from remote DAP4 servers into your Python program's memory space so that the data may be analyized and displayed.\n",
    "\n",
    "We show how to use simple HTTP requests to look at a dataset's metadata and how to use the NetCDF Python package to read data into numpy arrays and plot (or do other things) with those data. NetCDF Python provides lazy evaluation, so data are read only when needed.\n",
    "\n",
    "This tutorial utilizes the NASA Global High Resolution Sea Surface Temperature from the GOES-16 satellite. You may wish to review the summary on our Tutorial Datasets page before continuing.\n",
    "\n",
    "Copyright (C) 2023 OPeNDAP, Inc. This Jupyter Notebook is made available under the Creative Commons Attribution license 4.0.\n"
   ]
  },
  {
   "cell_type": "code",
   "execution_count": 1,
   "id": "d1a152e1",
   "metadata": {},
   "outputs": [],
   "source": [
    "import netCDF4"
   ]
  },
  {
   "cell_type": "code",
   "execution_count": 2,
   "id": "8b8ddf52",
   "metadata": {},
   "outputs": [
    {
     "name": "stdout",
     "output_type": "stream",
     "text": [
      "dataset_url: dap4://opendap.earthdata.nasa.gov/collections/C2036877806-POCLOUD/granules/20220812010000-OSISAF-L3C_GHRSST-SSTsubskin-GOES16-ssteqc_goes16_20220812_010000-v02.0-fv01.0\n"
     ]
    }
   ],
   "source": [
    "USE_NASA_CLOUD_BASED_DATA = True\n",
    "\n",
    "# NOTE: When I used a URL using opendap.earthdata.nasa.gov and the 'https' protocol, I got an error \n",
    "# that said the library could not build a DAP2 object from a DAP4 response. This is NOT using PyDAP\n",
    "# but instead using the Python wrappers calling the NetCDF 4.8.1 C library. \n",
    "#\n",
    "# This is the error message (with some reformatting):  \n",
    "# Syntax error, unexpected $end, expecting ';'\n",
    "# context: Error {  code = 400; message = \"ERROR: Unable to convert a DAP4 DMR for this dataset to a \n",
    "# DAP2 DDS object. This dataset contains variables and/or attributes whose data types are not compatible \n",
    "# with the DAP2 data model.There are 46 incompatible variables and/or attributes referenced in your request ...\n",
    "#\n",
    "# This is repeatable without needing to restart jupyter. Note that the underlying C library is 4.8.1.\n",
    "# This may goaway if/when the python package (I'm using conda for the binary) moves up to 4.9.x. jhrg 3/24/23\n",
    "\n",
    "if(USE_NASA_CLOUD_BASED_DATA):\n",
    "    dataset_url = \"dap4://opendap.earthdata.nasa.gov/collections/C2036877806-POCLOUD/granules/20220812010000-OSISAF-L3C_GHRSST-SSTsubskin-GOES16-ssteqc_goes16_20220812_010000-v02.0-fv01.0\"\n",
    "else:\n",
    "    dataset_url = \"dap4://test.opendap.org/opendap/tutorials/20220812010000-OSISAF-L3C_GHRSST-SSTsubskin-GOES16-ssteqc_goes16_20220812_010000-v02.0-fv01.0.nc\"\n",
    "\n",
    "print (f\"dataset_url: {dataset_url}\")"
   ]
  },
  {
   "cell_type": "code",
   "execution_count": 3,
   "id": "50e89127",
   "metadata": {},
   "outputs": [
    {
     "name": "stdout",
     "output_type": "stream",
     "text": [
      "NetCDF4 dataset: <class 'netCDF4._netCDF4.Dataset'>\n",
      "root group (NETCDF4 data model, file format DAP4):\n",
      "    Conventions: CF-1.4\n",
      "    title: Sea Surface Temperature\n",
      "    summary: The L3C product derived from GOES16/ABI brightness temperatures.\n",
      "    references: Geostationary Sea Surface Temperature Product User Manual, http://www.osi-saf.org\n",
      "    institution: OSISAF\n",
      "    comment: \n",
      "    license: All intellectual property rights of the Ocean &amp; Sea Ice SAF products belong to EUMETSAT. The use of these products is granted to every user, free of charge. If users wish to use these products, EUMETSAT&apos;s copyright credit must be shown by displaying the words &apos;Copyright EUMETSAT&apos; under each of the products shown. EUMETSAT offers no warranty and accepts no liability in respect of the Ocean &amp; Sea Ice SAF products. EUMETSAT neither commits to nor guarantees the continuity, availability, or quality or suitability for any purpose of, the Ocean &amp; Sea Ice SAF products.\n",
      "    id: GOES16-OSISAF-L3C-v1.0\n",
      "    product_id: OSI-207-b\n",
      "    naming_authority: org.ghrsst\n",
      "    product_version: 1.0\n",
      "    gds_version_id: 2.0\n",
      "    file_quality_level: 3\n",
      "    spatial_resolution: 0.05 degree\n",
      "    northernmost_latitude: 60.000008\n",
      "    southernmost_latitude: -60.000023\n",
      "    easternmost_longitude: -15.000006\n",
      "    westernmost_longitude: -135.00009\n",
      "    source: GOES_ABI\n",
      "    platform: GOES16\n",
      "    sensor: GOES_ABI\n",
      "    Metadata_Conventions: Unidata Dataset Discovery v1.0\n",
      "    metadata_link: N/A\n",
      "    keywords: Oceans &gt; Ocean Temperature &gt; Sea Surface Temperature \n",
      "    keywords_vocabulary: NASA Global Change Master Directory (GCMD) Science Keywords\n",
      "    standard_name_vocabulary: NetCDF Climate and Forecast (CF) Metadata Convention\n",
      "    geospatial_lat_units: degrees_north\n",
      "    geospatial_lat_resolution: 0.05\n",
      "    geospatial_lon_units: degrees_east\n",
      "    geospatial_lon_resolution: 0.05\n",
      "    acknowledgment: In case SAF data (pre-operational or operational) has been used for the study described in a paper the following sentence would be an appropriate reference to the funding coming from EUMETSAT: The data from the EUMETSAT Satellite Application Facility on Ocean &amp; Sea Ice  used in this study are accessible through the SAF&apos;s homepage http://www.osi-saf.org\n",
      "    creator_name: O&amp;SI SAF\n",
      "    creator_email: osi-saf.helpdesk@meteo.fr\n",
      "    creator_url: http://www.osi-saf.org\n",
      "    project: Group for High Resolution Sea Surface Temperature\n",
      "    publisher_name: The GHRSST Project Office\n",
      "    publisher_url: http://www.ghrsst.org\n",
      "    publisher_email: ghrsst-po@nceo.ac.uk\n",
      "    processing_level: L3C\n",
      "    cdm_data_type: grid\n",
      "    history: METEO-FRANCE GEOSAFO v1.1.8\n",
      "    uuid: DF556788-19E1-11ED-A08A-48DF370DAD10\n",
      "    date_created: 20220812T015542Z\n",
      "    start_time: 20220812T004042Z\n",
      "    time_coverage_start: 20220812T004042Z\n",
      "    stop_time: 20220812T011929Z\n",
      "    time_coverage_end: 20220812T011929Z\n",
      "    netcdf_version_id: 4.6.3\n",
      "    dimensions(sizes): time(1), lat(2400), lon(2400)\n",
      "    variables(dimensions): int8 wind_speed(time, lat, lon), float32 lon(lon), int16 or_longitude(time, lat, lon), int32 time(time), int8 sses_standard_deviation(time, lat, lon), int32 sst_dtime(time, lat, lon), int8 solar_zenith_angle(time, lat, lon), int8 sea_ice_fraction(time, lat, lon), int32 l2p_flags(time, lat, lon), int8 sources_of_adi(time, lat, lon), int8 aerosol_dynamic_indicator(time, lat, lon), int16 sea_surface_temperature(time, lat, lon), int8 quality_level(time, lat, lon), int8 dt_analysis(time, lat, lon), int8 satellite_zenith_angle(time, lat, lon), float32 lat(lat), int8 adi_dtime_from_sst(time, lat, lon), int16 or_latitude(time, lat, lon), int8 sses_bias(time, lat, lon)\n",
      "    groups: \n"
     ]
    }
   ],
   "source": [
    "f = netCDF4.Dataset(dataset_url, 'r')\n",
    "print(f\"NetCDF4 dataset: {f}\") "
   ]
  },
  {
   "cell_type": "code",
   "execution_count": 4,
   "id": "89b11c7f",
   "metadata": {},
   "outputs": [
    {
     "name": "stdout",
     "output_type": "stream",
     "text": [
      "Latitude: <class 'netCDF4._netCDF4.Variable'>\n",
      "float32 lat(lat)\n",
      "    long_name: latitude\n",
      "    standard_name: latitude\n",
      "    axis: Y\n",
      "    units: degrees_north\n",
      "    valid_min: -90.000046\n",
      "    valid_max: 90.000015\n",
      "    comment: geographical coordinates, WGS84 projection\n",
      "unlimited dimensions: \n",
      "current shape = (2400,)\n",
      "filling on, default _FillValue of 9.969209968386869e+36 used\n"
     ]
    }
   ],
   "source": [
    "lat = f.variables['lat']  # temperature variable\n",
    "print(f\"Latitude: {lat}\")"
   ]
  },
  {
   "cell_type": "code",
   "execution_count": 5,
   "id": "2793d1b3",
   "metadata": {},
   "outputs": [
    {
     "name": "stdout",
     "output_type": "stream",
     "text": [
      "<class 'netCDF4._netCDF4.Dimension'>: name = 'time', size = 1\n",
      "<class 'netCDF4._netCDF4.Dimension'>: name = 'lat', size = 2400\n",
      "<class 'netCDF4._netCDF4.Dimension'>: name = 'lon', size = 2400\n"
     ]
    }
   ],
   "source": [
    "for dname, d in f.dimensions.items():\n",
    "    print(d)\n"
   ]
  },
  {
   "cell_type": "code",
   "execution_count": 6,
   "id": "2bb1eec1",
   "metadata": {},
   "outputs": [
    {
     "data": {
      "text/plain": [
       "('lat',)"
      ]
     },
     "execution_count": 6,
     "metadata": {},
     "output_type": "execute_result"
    }
   ],
   "source": [
    "lat.dimensions"
   ]
  },
  {
   "cell_type": "code",
   "execution_count": 7,
   "id": "1498efaa",
   "metadata": {},
   "outputs": [
    {
     "data": {
      "text/plain": [
       "(2400,)"
      ]
     },
     "execution_count": 7,
     "metadata": {},
     "output_type": "execute_result"
    }
   ],
   "source": [
    "f.variables['lat'].shape"
   ]
  },
  {
   "cell_type": "code",
   "execution_count": 8,
   "id": "0697fcb4",
   "metadata": {},
   "outputs": [
    {
     "data": {
      "text/plain": [
       "(1, 2400, 2400)"
      ]
     },
     "execution_count": 8,
     "metadata": {},
     "output_type": "execute_result"
    }
   ],
   "source": [
    "f.variables['sea_surface_temperature'].shape"
   ]
  },
  {
   "cell_type": "code",
   "execution_count": 9,
   "id": "ebeac73d",
   "metadata": {},
   "outputs": [
    {
     "name": "stderr",
     "output_type": "stream",
     "text": [
      "checksumhack=0\n"
     ]
    }
   ],
   "source": [
    "latitude = f.variables['lat'][:]"
   ]
  },
  {
   "cell_type": "code",
   "execution_count": 10,
   "id": "faa6a934",
   "metadata": {},
   "outputs": [
    {
     "data": {
      "text/plain": [
       "masked_array(data=[-59.975, -59.925, -59.875, ...,  59.875,  59.925,\n",
       "                    59.975],\n",
       "             mask=False,\n",
       "       fill_value=1e+20,\n",
       "            dtype=float32)"
      ]
     },
     "execution_count": 10,
     "metadata": {},
     "output_type": "execute_result"
    }
   ],
   "source": [
    "latitude"
   ]
  },
  {
   "cell_type": "code",
   "execution_count": 11,
   "id": "be1e0c9e",
   "metadata": {},
   "outputs": [],
   "source": [
    "longitude = f.variables['lon'][:]"
   ]
  },
  {
   "cell_type": "code",
   "execution_count": 12,
   "id": "2334f839",
   "metadata": {},
   "outputs": [
    {
     "data": {
      "text/plain": [
       "masked_array(data=[-134.975, -134.925, -134.875, ...,  -15.125,  -15.075,\n",
       "                    -15.025],\n",
       "             mask=False,\n",
       "       fill_value=1e+20,\n",
       "            dtype=float32)"
      ]
     },
     "execution_count": 12,
     "metadata": {},
     "output_type": "execute_result"
    }
   ],
   "source": [
    "longitude"
   ]
  },
  {
   "cell_type": "code",
   "execution_count": 13,
   "id": "b4ec5744",
   "metadata": {},
   "outputs": [
    {
     "name": "stdout",
     "output_type": "stream",
     "text": [
      "Sea Surface Temperature shape: (1, 2400, 2400)\n",
      "Sea Surface Temperature: [[[-- -- -- ... -- -- --]\n",
      "  [-- -- -- ... -- -- --]\n",
      "  [-- -- -- ... -- -- --]\n",
      "  ...\n",
      "  [-- -- -- ... -- -- --]\n",
      "  [-- -- -- ... 288.28 288.28 288.28]\n",
      "  [-- -- -- ... 286.59999999999997 286.59999999999997 --]]]\n"
     ]
    }
   ],
   "source": [
    "sst = f.variables['sea_surface_temperature'][:]\n",
    "print(f\"Sea Surface Temperature shape: {sst.shape}\")\n",
    "print(f\"Sea Surface Temperature: {sst}\")"
   ]
  },
  {
   "cell_type": "code",
   "execution_count": 14,
   "id": "3965689f",
   "metadata": {},
   "outputs": [
    {
     "ename": "ModuleNotFoundError",
     "evalue": "No module named 'mpl_toolkits.basemap'",
     "output_type": "error",
     "traceback": [
      "\u001b[0;31m---------------------------------------------------------------------------\u001b[0m",
      "\u001b[0;31mModuleNotFoundError\u001b[0m                       Traceback (most recent call last)",
      "Cell \u001b[0;32mIn[14], line 2\u001b[0m\n\u001b[1;32m      1\u001b[0m \u001b[38;5;28;01mimport\u001b[39;00m \u001b[38;5;21;01mmatplotlib\u001b[39;00m\u001b[38;5;21;01m.\u001b[39;00m\u001b[38;5;21;01mpyplot\u001b[39;00m \u001b[38;5;28;01mas\u001b[39;00m \u001b[38;5;21;01mplt\u001b[39;00m\n\u001b[0;32m----> 2\u001b[0m \u001b[38;5;28;01mfrom\u001b[39;00m \u001b[38;5;21;01mmpl_toolkits\u001b[39;00m\u001b[38;5;21;01m.\u001b[39;00m\u001b[38;5;21;01mbasemap\u001b[39;00m \u001b[38;5;28;01mimport\u001b[39;00m Basemap\n\u001b[1;32m      4\u001b[0m \u001b[38;5;28;01mimport\u001b[39;00m \u001b[38;5;21;01mnumpy\u001b[39;00m \u001b[38;5;28;01mas\u001b[39;00m \u001b[38;5;21;01mnp\u001b[39;00m\n",
      "\u001b[0;31mModuleNotFoundError\u001b[0m: No module named 'mpl_toolkits.basemap'"
     ]
    }
   ],
   "source": [
    "import matplotlib.pyplot as plt\n",
    "from mpl_toolkits.basemap import Basemap\n",
    "\n",
    "import numpy as np\n",
    "\n",
    "# NB conda install -c conda-forge matplotlib numpy basemap; but installed each separately. jhrg 3/22/23"
   ]
  },
  {
   "cell_type": "code",
   "execution_count": null,
   "id": "2e713831",
   "metadata": {},
   "outputs": [],
   "source": [
    "#np.squeeze(sst)\n",
    "sst = np.squeeze(sst)\n",
    "print(f\"Sea Surface Temperature shape: {sst.shape}\")"
   ]
  },
  {
   "cell_type": "code",
   "execution_count": null,
   "id": "79631d35",
   "metadata": {},
   "outputs": [],
   "source": [
    "fig = plt.figure(figsize=(12,8))\n",
    "ax = fig.add_axes([0.1, 0.1, 0.8, 0.8])\n",
    "\n",
    "# BaseMap\n",
    "# The resolution can be l (low), i (intermediate), h (high), f (full)\n",
    "# But you have to install/configure everything but low\n",
    "#\n",
    "# These bounds were chosen based on the bounds of the data. The bounds\n",
    "# are documented on the TuorialsDatasets page: \n",
    "# https://opendap.github.io/documentation/tutorials/TutorialDatasets.html\n",
    "#\n",
    "m = Basemap(\n",
    "    llcrnrlon=-135.,\n",
    "    llcrnrlat=-60.,\n",
    "    urcrnrlon=-15.,\n",
    "    urcrnrlat=60.,\n",
    "    resolution='l',\n",
    "    projection='merc')\n",
    "\n",
    "m.fillcontinents(color='saddlebrown',lake_color='cornflowerblue')\n",
    "\n",
    "# draw lat and lon line (parallels and meridians).\n",
    "# and set the axis labels (labels = [left,right,top,bottom])\n",
    "parallels = np.arange(-70., 80., 20.)\n",
    "m.drawparallels(parallels, labels=[False,True,False,False])\n",
    "meridians = np.arange(-180., 180., 40.)\n",
    "m.drawmeridians(meridians, labels=[False,False,False,True])\n",
    "\n",
    "# Use meshgrid(lon, lat) to build matrices for the lon, lat values\n",
    "# and then convert them to map projection coordinates for the Basemap\n",
    "# object 'm.'\n",
    "\n",
    "X, Y = m(*np.meshgrid(longitude, latitude))\n",
    "\n",
    "print(\"X\", X.shape)\n",
    "print(\"Y\", Y.shape)\n",
    "print(\"sst\", sst.shape)\n",
    "\n",
    "# Plot using the rainbox color map\n",
    "colors_ = m.pcolormesh(X, Y, sst, cmap=plt.get_cmap('rainbow'))\n",
    "\n",
    "m.drawcoastlines(linewidth=0.5)\n",
    "\n",
    "cb = plt.colorbar(colors_)\n",
    "cb.set_label(\"degrees C\")\n",
    "m.drawcoastlines(linewidth=0.5)\n",
    "\n",
    "ax.set_title('Sea Surface Temperature')"
   ]
  },
  {
   "cell_type": "code",
   "execution_count": null,
   "id": "2a13d6c1",
   "metadata": {},
   "outputs": [],
   "source": []
  },
  {
   "cell_type": "code",
   "execution_count": null,
   "id": "09b2529a",
   "metadata": {},
   "outputs": [],
   "source": []
  },
  {
   "cell_type": "code",
   "execution_count": null,
   "id": "63fc8f93",
   "metadata": {},
   "outputs": [],
   "source": []
  }
 ],
 "metadata": {
  "kernelspec": {
   "display_name": "Python 3 (ipykernel)",
   "language": "python",
   "name": "python3"
  },
  "language_info": {
   "codemirror_mode": {
    "name": "ipython",
    "version": 3
   },
   "file_extension": ".py",
   "mimetype": "text/x-python",
   "name": "python",
   "nbconvert_exporter": "python",
   "pygments_lexer": "ipython3",
   "version": "3.9.16"
  }
 },
 "nbformat": 4,
 "nbformat_minor": 5
}
