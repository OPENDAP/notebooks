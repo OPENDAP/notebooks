{
 "cells": [
  {
   "cell_type": "markdown",
   "metadata": {},
   "source": [
    "# Test: XArray with OPeNDAP Data\n",
    "Retrieve OPeNDAP data with xarray. \n"
   ]
  },
  {
   "cell_type": "code",
   "execution_count": 19,
   "metadata": {},
   "outputs": [],
   "source": [
    "%matplotlib inline\n",
    "\n",
    "import warnings\n",
    "warnings.filterwarnings(\"ignore\")\n",
    "\n",
    "import xarray as xr\n",
    "import numpy as np"
   ]
  },
  {
   "cell_type": "markdown",
   "metadata": {},
   "source": [
    "The dataset URL we use for this test resferences a dmr++ file hosted on an Amazon EC2 instance Running Hyrax. THe dmr++ file references (is backed by) an associated data object (in this case an hdf5 file) in S3."
   ]
  },
  {
   "cell_type": "code",
   "execution_count": 24,
   "metadata": {},
   "outputs": [
    {
     "data": {
      "text/plain": [
       "<xarray.Dataset>\n",
       "Dimensions:                       (CoarseCloudLayer: 3, EmisFreqIR: 4, EmisFreqMW: 3, FineCloudLayer: 12, H2OPressureLay: 12, H2OPressureLev: 12, Latitude: 180, Longitude: 360, StdPressureLev: 24)\n",
       "Coordinates:\n",
       "  * CoarseCloudLayer              (CoarseCloudLayer) float32 865.0 547.0 66.0\n",
       "  * EmisFreqIR                    (EmisFreqIR) float32 832.0 961.0 1203.0 2616.0\n",
       "  * EmisFreqMW                    (EmisFreqMW) float32 23.0 50.3 89.0\n",
       "  * FineCloudLayer                (FineCloudLayer) float32 1018.0 887.0 ... 32.0\n",
       "  * H2OPressureLay                (H2OPressureLay) float32 961.7692 ... 83.666\n",
       "  * H2OPressureLev                (H2OPressureLev) float32 1000.0 ... 100.0\n",
       "  * Latitude                      (Latitude) float64 89.5 88.5 ... -88.5 -89.5\n",
       "  * Longitude                     (Longitude) float64 -179.5 -178.5 ... 179.5\n",
       "  * StdPressureLev                (StdPressureLev) float32 1000.0 925.0 ... 1.0\n",
       "Data variables:\n",
       "    ClrOLR_A                      (Latitude, Longitude) float32 ...\n",
       "    GPHeight_MW_A_sdev            (StdPressureLev, Latitude, Longitude) float32 ...\n",
       "    CO_VMR_TqJ_D_ct               (StdPressureLev, Latitude, Longitude) float32 ...\n",
       "    RelHum_liquid_A_max           (H2OPressureLev, Latitude, Longitude) float32 ...\n",
       "    Temperature_A_err             (StdPressureLev, Latitude, Longitude) float32 ...\n",
       "    TotH2OVap_TqJ_A               (Latitude, Longitude) float32 ...\n",
       "    TotCldLiqH2O_MW_A_min         (Latitude, Longitude) float32 ...\n",
       "    RelHum_A_min                  (H2OPressureLev, Latitude, Longitude) float32 ...\n",
       "    TropHeight_TqJ_D_ct           (Latitude, Longitude) float32 ...\n",
       "    TropHeight_D_ct               (Latitude, Longitude) float32 ...\n",
       "    O3_VMR_TqJ_D                  (StdPressureLev, Latitude, Longitude) float32 ...\n",
       "    SurfPres_Forecast_D_ct        (Latitude, Longitude) float32 ...\n",
       "    CloudFrc_A_sdev               (Latitude, Longitude) float32 ...\n",
       "    RelHum_TqJ_D_max              (H2OPressureLev, Latitude, Longitude) float32 ...\n",
       "    CoarseCloudPres_TqJ_D_sdev    (CoarseCloudLayer, Latitude, Longitude) float32 ...\n",
       "    CloudFrc_TqJ_D_max            (Latitude, Longitude) float32 ...\n",
       "    RelHumSurf_TqJ_D_ct           (Latitude, Longitude) float32 ...\n",
       "    O3_VMR_TqJ_A_max              (StdPressureLev, Latitude, Longitude) float32 ...\n",
       "    CloudTopPres_TqJ_D_min        (Latitude, Longitude) float32 ...\n",
       "    Emis_MW_D                     (EmisFreqMW, Latitude, Longitude) float32 ...\n",
       "    CloudTopPres_A                (Latitude, Longitude) float32 ...\n",
       "    SurfSkinTemp_TqJ_D            (Latitude, Longitude) float32 ...\n",
       "    CloudFrc_TqJ_A_err            (Latitude, Longitude) float32 ...\n",
       "    H2O_MMR_TqJ_D                 (H2OPressureLev, Latitude, Longitude) float32 ...\n",
       "    TotCO_TqJ_A_ct                (Latitude, Longitude) float32 ...\n",
       "    TropPres_D_ct                 (Latitude, Longitude) float32 ...\n",
       "    FineCloudFrc_TqJ_A_sdev       (FineCloudLayer, Latitude, Longitude) float32 ...\n",
       "    TotCO_TqJ_D_max               (Latitude, Longitude) float32 ...\n",
       "    ClrOLR_TqJ_A                  (Latitude, Longitude) float32 ...\n",
       "    TotCldLiqH2O_MW_A_err         (Latitude, Longitude) float32 ...\n",
       "    H2O_MMR_Surf_TqJ_D_min        (Latitude, Longitude) float32 ...\n",
       "    Temperature_TqJ_D_ct          (StdPressureLev, Latitude, Longitude) float32 ...\n",
       "    TotCH4_A_ct                   (Latitude, Longitude) float32 ...\n",
       "    H2O_MMR_Lyr_A_min             (H2OPressureLay, Latitude, Longitude) float32 ...\n",
       "    CO_VMR_TqJ_D_sdev             (StdPressureLev, Latitude, Longitude) float32 ...\n",
       "    H2O_MMR_Surf_TqJ_D_err        (Latitude, Longitude) float32 ...\n",
       "    Temperature_TqJ_D             (StdPressureLev, Latitude, Longitude) float32 ...\n",
       "    CloudFrc_TqJ_D_err            (Latitude, Longitude) float32 ...\n",
       "    RelHum_A_ct                   (H2OPressureLev, Latitude, Longitude) float32 ...\n",
       "    RelHumSurf_liquid_TqJ_A_ct    (Latitude, Longitude) float32 ...\n",
       "    H2O_MMR_Lyr_D_sdev            (H2OPressureLay, Latitude, Longitude) float32 ...\n",
       "    EmisIR_A_sdev                 (EmisFreqIR, Latitude, Longitude) float32 ...\n",
       "    TropTemp_A_sdev               (Latitude, Longitude) float32 ...\n",
       "    TropPres_D_sdev               (Latitude, Longitude) float32 ...\n",
       "    OLR_D_err                     (Latitude, Longitude) float32 ...\n",
       "    O3_VMR_D                      (StdPressureLev, Latitude, Longitude) float32 ...\n",
       "    H2O_MMR_D_ct                  (H2OPressureLev, Latitude, Longitude) float32 ...\n",
       "    GPHeight_TqJ_D                (StdPressureLev, Latitude, Longitude) float32 ...\n",
       "    SurfSkinTemp_TqJ_A_err        (Latitude, Longitude) float32 ...\n",
       "    TropTemp_D_ct                 (Latitude, Longitude) float32 ...\n",
       "    Temperature_TqJ_A_min         (StdPressureLev, Latitude, Longitude) float32 ...\n",
       "    TotH2OVap_A_err               (Latitude, Longitude) float32 ...\n",
       "    Temperature_TqJ_D_err         (StdPressureLev, Latitude, Longitude) float32 ...\n",
       "    OLR_TqJ_D_min                 (Latitude, Longitude) float32 ...\n",
       "    SurfSkinTemp_TqJ_D_max        (Latitude, Longitude) float32 ...\n",
       "    SurfSkinTemp_TqJ_A            (Latitude, Longitude) float32 ...\n",
       "    CloudTopPres_D_sdev           (Latitude, Longitude) float32 ...\n",
       "    SurfPres_Forecast_A           (Latitude, Longitude) float32 ...\n",
       "    H2O_MMR_Lyr_TqJ_D_err         (H2OPressureLay, Latitude, Longitude) float32 ...\n",
       "    CoarseCloudTemp_TqJ_A         (CoarseCloudLayer, Latitude, Longitude) float32 ...\n",
       "    CH4_VMR_TqJ_D_min             (StdPressureLev, Latitude, Longitude) float32 ...\n",
       "    RelHum_liquid_TqJ_A_ct        (H2OPressureLev, Latitude, Longitude) float32 ...\n",
       "    TropHeight_TqJ_A_min          (Latitude, Longitude) float32 ...\n",
       "    H2O_MMR_Lyr_TqJ_A_ct          (H2OPressureLay, Latitude, Longitude) float32 ...\n",
       "    TotalCounts_TqJ_A             (Latitude, Longitude) float32 ...\n",
       "    OLR_A_max                     (Latitude, Longitude) float32 ...\n",
       "    TropPres_TqJ_A_max            (Latitude, Longitude) float32 ...\n",
       "    TotO3_D                       (Latitude, Longitude) float32 ...\n",
       "    CoarseCloudTemp_D_ct          (CoarseCloudLayer, Latitude, Longitude) float32 ...\n",
       "    TropHeight_D_min              (Latitude, Longitude) float32 ...\n",
       "    TotH2OVap_D_ct                (Latitude, Longitude) float32 ...\n",
       "    FineCloudFrc_D_max            (FineCloudLayer, Latitude, Longitude) float32 ...\n",
       "    O3_VMR_A_ct                   (StdPressureLev, Latitude, Longitude) float32 ...\n",
       "    GPHeight_MW_A_max             (StdPressureLev, Latitude, Longitude) float32 ...\n",
       "    CO_VMR_TqJ_A_max              (StdPressureLev, Latitude, Longitude) float32 ...\n",
       "    CloudTopPres_TqJ_A_ct         (Latitude, Longitude) float32 ...\n",
       "    H2O_MMR_TqJ_A                 (H2OPressureLev, Latitude, Longitude) float32 ...\n",
       "    EmisIR_TqJ_A_sdev             (EmisFreqIR, Latitude, Longitude) float32 ...\n",
       "    TotH2OVap_TqJ_D_err           (Latitude, Longitude) float32 ...\n",
       "    TotalCounts_A                 (Latitude, Longitude) float32 ...\n",
       "    O3_VMR_A_sdev                 (StdPressureLev, Latitude, Longitude) float32 ...\n",
       "    GPHeight_TqJ_D_max            (StdPressureLev, Latitude, Longitude) float32 ...\n",
       "    O3_VMR_D_sdev                 (StdPressureLev, Latitude, Longitude) float32 ...\n",
       "    CH4_VMR_TqJ_D_max             (StdPressureLev, Latitude, Longitude) float32 ...\n",
       "    CloudTopTemp_TqJ_A_sdev       (Latitude, Longitude) float32 ...\n",
       "    TotH2OVap_TqJ_A_ct            (Latitude, Longitude) float32 ...\n",
       "    CloudTopTemp_TqJ_D_min        (Latitude, Longitude) float32 ...\n",
       "    TotCH4_D_min                  (Latitude, Longitude) float32 ...\n",
       "    CoarseCloudPres_TqJ_D_ct      (CoarseCloudLayer, Latitude, Longitude) float32 ...\n",
       "    TotH2OVap_MW_A_sdev           (Latitude, Longitude) float32 ...\n",
       "    CoarseCloudFrc_TqJ_D          (CoarseCloudLayer, Latitude, Longitude) float32 ...\n",
       "    CloudFrc_TqJ_D_min            (Latitude, Longitude) float32 ...\n",
       "    RelHumSurf_TqJ_A_ct           (Latitude, Longitude) float32 ...\n",
       "    CloudFrc_TqJ_D_ct             (Latitude, Longitude) float32 ...\n",
       "    CoarseCloudTemp_D             (CoarseCloudLayer, Latitude, Longitude) float32 ...\n",
       "    TropPres_A_min                (Latitude, Longitude) float32 ...\n",
       "    RelHum_liquid_TqJ_D_max       (H2OPressureLev, Latitude, Longitude) float32 ...\n",
       "    FineCloudFrc_A_min            (FineCloudLayer, Latitude, Longitude) float32 ...\n",
       "    ClrOLR_D                      (Latitude, Longitude) float32 ...\n",
       "    H2O_MMR_Surf_TqJ_A            (Latitude, Longitude) float32 ...\n",
       "    O3_VMR_A_min                  (StdPressureLev, Latitude, Longitude) float32 ...\n",
       "    CloudTopTemp_D_ct             (Latitude, Longitude) float32 ...\n",
       "    FineCloudFrc_A_max            (FineCloudLayer, Latitude, Longitude) float32 ...\n",
       "    FineCloudFrc_A_sdev           (FineCloudLayer, Latitude, Longitude) float32 ...\n",
       "    CloudTopTemp_A_err            (Latitude, Longitude) float32 ...\n",
       "    RelHumSurf_A_sdev             (Latitude, Longitude) float32 ...\n",
       "    CloudFrc_TqJ_A                (Latitude, Longitude) float32 ...\n",
       "    CO_VMR_A_min                  (StdPressureLev, Latitude, Longitude) float32 ...\n",
       "    SurfAirTemp_TqJ_D_sdev        (Latitude, Longitude) float32 ...\n",
       "    FineCloudFrc_D_ct             (FineCloudLayer, Latitude, Longitude) float32 ...\n",
       "    TotCH4_TqJ_D_min              (Latitude, Longitude) float32 ...\n",
       "    TropTemp_TqJ_A_max            (Latitude, Longitude) float32 ...\n",
       "    RelHumSurf_A_max              (Latitude, Longitude) float32 ...\n",
       "    Temperature_TqJ_D_sdev        (StdPressureLev, Latitude, Longitude) float32 ...\n",
       "    TotCH4_TqJ_D_ct               (Latitude, Longitude) float32 ...\n",
       "    H2O_MMR_Surf_D_min            (Latitude, Longitude) float32 ...\n",
       "    EmisIR_TqJ_D_err              (EmisFreqIR, Latitude, Longitude) float32 ...\n",
       "    H2O_MMR_A                     (H2OPressureLev, Latitude, Longitude) float32 ...\n",
       "    O3_VMR_D_min                  (StdPressureLev, Latitude, Longitude) float32 ...\n",
       "    Temperature_TqJ_A_ct          (StdPressureLev, Latitude, Longitude) float32 ...\n",
       "    CO_VMR_D_max                  (StdPressureLev, Latitude, Longitude) float32 ...\n",
       "    TropTemp_TqJ_D_max            (Latitude, Longitude) float32 ...\n",
       "    CloudTopPres_D                (Latitude, Longitude) float32 ...\n",
       "    TropPres_TqJ_D_ct             (Latitude, Longitude) float32 ...\n",
       "    CloudTopPres_A_err            (Latitude, Longitude) float32 ...\n",
       "    CloudTopPres_TqJ_A_err        (Latitude, Longitude) float32 ...\n",
       "    CloudTopPres_TqJ_A_min        (Latitude, Longitude) float32 ...\n",
       "    CloudTopPres_D_err            (Latitude, Longitude) float32 ...\n",
       "    CloudTopPres_D_min            (Latitude, Longitude) float32 ...\n",
       "    TotH2OVap_MW_A_ct             (Latitude, Longitude) float32 ...\n",
       "    O3_VMR_TqJ_A_ct               (StdPressureLev, Latitude, Longitude) float32 ...\n",
       "    TotO3_TqJ_D_err               (Latitude, Longitude) float32 ...\n",
       "    H2O_MMR_Surf_D                (Latitude, Longitude) float32 ...\n",
       "    TropTemp_D_min                (Latitude, Longitude) float32 ...\n",
       "    CH4_VMR_TqJ_D                 (StdPressureLev, Latitude, Longitude) float32 ...\n",
       "    RelHumSurf_liquid_TqJ_D_max   (Latitude, Longitude) float32 ...\n",
       "    Emis_MW_A_ct                  (EmisFreqMW, Latitude, Longitude) float32 ...\n",
       "    EmisIR_TqJ_A_min              (EmisFreqIR, Latitude, Longitude) float32 ...\n",
       "    CH4_VMR_TqJ_D_ct              (StdPressureLev, Latitude, Longitude) float32 ...\n",
       "    TotO3_TqJ_D                   (Latitude, Longitude) float32 ...\n",
       "    RelHum_liquid_TqJ_D           (H2OPressureLev, Latitude, Longitude) float32 ...\n",
       "    TotCH4_TqJ_A_max              (Latitude, Longitude) float32 ...\n",
       "    GPHeight_A_max                (StdPressureLev, Latitude, Longitude) float32 ...\n",
       "    O3_VMR_D_max                  (StdPressureLev, Latitude, Longitude) float32 ...\n",
       "    SurfAirTemp_A_max             (Latitude, Longitude) float32 ...\n",
       "    Temperature_A_ct              (StdPressureLev, Latitude, Longitude) float32 ...\n",
       "    H2O_MMR_TqJ_A_min             (H2OPressureLev, Latitude, Longitude) float32 ...\n",
       "    SurfSkinTemp_D_ct             (Latitude, Longitude) float32 ...\n",
       "    O3_VMR_TqJ_A_err              (StdPressureLev, Latitude, Longitude) float32 ...\n",
       "    EmisIR_D_err                  (EmisFreqIR, Latitude, Longitude) float32 ...\n",
       "    Temperature_A_max             (StdPressureLev, Latitude, Longitude) float32 ...\n",
       "    RelHumSurf_liquid_TqJ_D_min   (Latitude, Longitude) float32 ...\n",
       "    ClrOLR_TqJ_D_sdev             (Latitude, Longitude) float32 ...\n",
       "    EmisIR_A_ct                   (EmisFreqIR, Latitude, Longitude) float32 ...\n",
       "    OLR_TqJ_D                     (Latitude, Longitude) float32 ...\n",
       "    Temperature_MW_A              (StdPressureLev, Latitude, Longitude) float32 ...\n",
       "    SurfAirTemp_TqJ_A_sdev        (Latitude, Longitude) float32 ...\n",
       "    CloudTopPres_TqJ_D_sdev       (Latitude, Longitude) float32 ...\n",
       "    CloudTopTemp_TqJ_A_err        (Latitude, Longitude) float32 ...\n",
       "    TotCH4_A_sdev                 (Latitude, Longitude) float32 ...\n",
       "    EmisIR_TqJ_D_sdev             (EmisFreqIR, Latitude, Longitude) float32 ...\n",
       "    RelHumSurf_D_max              (Latitude, Longitude) float32 ...\n",
       "    SurfAirTemp_D_min             (Latitude, Longitude) float32 ...\n",
       "    FineCloudFrc_A                (FineCloudLayer, Latitude, Longitude) float32 ...\n",
       "    SurfAirTemp_TqJ_D_max         (Latitude, Longitude) float32 ...\n",
       "    TropHeight_TqJ_D_min          (Latitude, Longitude) float32 ...\n",
       "    H2O_MMR_Lyr_TqJ_A_max         (H2OPressureLay, Latitude, Longitude) float32 ...\n",
       "    SurfSkinTemp_TqJ_D_ct         (Latitude, Longitude) float32 ...\n",
       "    SurfAirTemp_TqJ_A_err         (Latitude, Longitude) float32 ...\n",
       "    ClrOLR_A_err                  (Latitude, Longitude) float32 ...\n",
       "    TropTemp_D_sdev               (Latitude, Longitude) float32 ...\n",
       "    CloudTopTemp_D_min            (Latitude, Longitude) float32 ...\n",
       "    CoarseCloudPres_D             (CoarseCloudLayer, Latitude, Longitude) float32 ...\n",
       "    TropPres_D_min                (Latitude, Longitude) float32 ...\n",
       "    TotCO_TqJ_A_sdev              (Latitude, Longitude) float32 ...\n",
       "    H2O_MMR_Surf_A_sdev           (Latitude, Longitude) float32 ...\n",
       "    TotH2OVap_A_sdev              (Latitude, Longitude) float32 ...\n",
       "    TotCldLiqH2O_MW_D_max         (Latitude, Longitude) float32 ...\n",
       "    CH4_VMR_A_max                 (StdPressureLev, Latitude, Longitude) float32 ...\n",
       "    CH4_VMR_A                     (StdPressureLev, Latitude, Longitude) float32 ...\n",
       "    H2O_MMR_Surf_D_max            (Latitude, Longitude) float32 ...\n",
       "    SurfSkinTemp_TqJ_D_sdev       (Latitude, Longitude) float32 ...\n",
       "    OLR_A_sdev                    (Latitude, Longitude) float32 ...\n",
       "    TotCO_D                       (Latitude, Longitude) float32 ...\n",
       "    CoarseCloudFrc_TqJ_D_ct       (CoarseCloudLayer, Latitude, Longitude) float32 ...\n",
       "    TotCH4_D_max                  (Latitude, Longitude) float32 ...\n",
       "    H2O_MMR_A_ct                  (H2OPressureLev, Latitude, Longitude) float32 ...\n",
       "    H2O_MMR_TqJ_A_ct              (H2OPressureLev, Latitude, Longitude) float32 ...\n",
       "    SurfSkinTemp_A_err            (Latitude, Longitude) float32 ...\n",
       "    SurfPres_Forecast_TqJ_D_sdev  (Latitude, Longitude) float32 ...\n",
       "    CO_VMR_A_err                  (StdPressureLev, Latitude, Longitude) float32 ...\n",
       "    TotH2OVap_D_min               (Latitude, Longitude) float32 ...\n",
       "    Temperature_TqJ_A             (StdPressureLev, Latitude, Longitude) float32 ...\n",
       "    TotO3_TqJ_D_max               (Latitude, Longitude) float32 ...\n",
       "    SurfAirTemp_TqJ_D_err         (Latitude, Longitude) float32 ...\n",
       "    GPHeight_MW_D_min             (StdPressureLev, Latitude, Longitude) float32 ...\n",
       "    CO_VMR_D_sdev                 (StdPressureLev, Latitude, Longitude) float32 ...\n",
       "    RelHum_TqJ_A_max              (H2OPressureLev, Latitude, Longitude) float32 ...\n",
       "    RelHumSurf_liquid_TqJ_D_ct    (Latitude, Longitude) float32 ...\n",
       "    H2O_MMR_TqJ_A_sdev            (H2OPressureLev, Latitude, Longitude) float32 ...\n",
       "    CH4_VMR_TqJ_D_sdev            (StdPressureLev, Latitude, Longitude) float32 ...\n",
       "    O3_VMR_D_err                  (StdPressureLev, Latitude, Longitude) float32 ...\n",
       "    TotO3_A_sdev                  (Latitude, Longitude) float32 ...\n",
       "    OLR_TqJ_A_err                 (Latitude, Longitude) float32 ...\n",
       "    CloudFrc_TqJ_D                (Latitude, Longitude) float32 ...\n",
       "    SurfAirTemp_A_ct              (Latitude, Longitude) float32 ...\n",
       "    CoarseCloudFrc_TqJ_A_sdev     (CoarseCloudLayer, Latitude, Longitude) float32 ...\n",
       "    RelHumSurf_TqJ_D              (Latitude, Longitude) float32 ...\n",
       "    TotCH4_TqJ_A_sdev             (Latitude, Longitude) float32 ...\n",
       "    CO_VMR_TqJ_A_sdev             (StdPressureLev, Latitude, Longitude) float32 ...\n",
       "    H2O_MMR_Surf_A_err            (Latitude, Longitude) float32 ...\n",
       "    RelHumSurf_TqJ_A_max          (Latitude, Longitude) float32 ...\n",
       "    TotCH4_D_sdev                 (Latitude, Longitude) float32 ...\n",
       "    TotH2OVap_TqJ_A_err           (Latitude, Longitude) float32 ...\n",
       "    GPHeight_TqJ_D_min            (StdPressureLev, Latitude, Longitude) float32 ...\n",
       "    SurfSkinTemp_A_sdev           (Latitude, Longitude) float32 ...\n",
       "    CO_VMR_D                      (StdPressureLev, Latitude, Longitude) float32 ...\n",
       "    CloudTopTemp_TqJ_D            (Latitude, Longitude) float32 ...\n",
       "    TotO3_TqJ_A_sdev              (Latitude, Longitude) float32 ...\n",
       "    CoarseCloudFrc_TqJ_D_min      (CoarseCloudLayer, Latitude, Longitude) float32 ...\n",
       "    TropPres_TqJ_D                (Latitude, Longitude) float32 ...\n",
       "    RelHum_TqJ_A_ct               (H2OPressureLev, Latitude, Longitude) float32 ...\n",
       "    Temperature_MW_D_ct           (StdPressureLev, Latitude, Longitude) float32 ...\n",
       "    Temperature_D_err             (StdPressureLev, Latitude, Longitude) float32 ...\n",
       "    TotH2OVap_D                   (Latitude, Longitude) float32 ...\n",
       "    H2O_MMR_D_sdev                (H2OPressureLev, Latitude, Longitude) float32 ...\n",
       "    CoarseCloudPres_TqJ_A_sdev    (CoarseCloudLayer, Latitude, Longitude) float32 ...\n",
       "    CoarseCloudPres_A_min         (CoarseCloudLayer, Latitude, Longitude) float32 ...\n",
       "    EmisIR_D_max                  (EmisFreqIR, Latitude, Longitude) float32 ...\n",
       "    TropPres_A_max                (Latitude, Longitude) float32 ...\n",
       "    Temperature_MW_D_min          (StdPressureLev, Latitude, Longitude) float32 ...\n",
       "    RelHum_D_max                  (H2OPressureLev, Latitude, Longitude) float32 ...\n",
       "    TotalCounts_MW_D              (Latitude, Longitude) float32 ...\n",
       "    CH4_VMR_TqJ_A_ct              (StdPressureLev, Latitude, Longitude) float32 ...\n",
       "    OLR_D_min                     (Latitude, Longitude) float32 ...\n",
       "    CoarseCloudPres_D_sdev        (CoarseCloudLayer, Latitude, Longitude) float32 ...\n",
       "    RelHum_liquid_D_max           (H2OPressureLev, Latitude, Longitude) float32 ...\n",
       "    CH4_VMR_TqJ_A                 (StdPressureLev, Latitude, Longitude) float32 ...\n",
       "    SurfAirTemp_A_sdev            (Latitude, Longitude) float32 ...\n",
       "    RelHumSurf_D_ct               (Latitude, Longitude) float32 ...\n",
       "    CO_VMR_D_min                  (StdPressureLev, Latitude, Longitude) float32 ...\n",
       "    TotO3_TqJ_A_min               (Latitude, Longitude) float32 ...\n",
       "    RelHumSurf_liquid_D_sdev      (Latitude, Longitude) float32 ...\n",
       "    SurfAirTemp_A_err             (Latitude, Longitude) float32 ...\n",
       "    CloudFrc_TqJ_A_max            (Latitude, Longitude) float32 ...\n",
       "    OLR_TqJ_D_sdev                (Latitude, Longitude) float32 ...\n",
       "    OLR_D_sdev                    (Latitude, Longitude) float32 ...\n",
       "    SurfPres_Forecast_TqJ_A_sdev  (Latitude, Longitude) float32 ...\n",
       "    TotH2OVap_A_min               (Latitude, Longitude) float32 ...\n",
       "    TotH2OVap_MW_D_min            (Latitude, Longitude) float32 ...\n",
       "    SurfAirTemp_D                 (Latitude, Longitude) float32 ...\n",
       "    CoarseCloudFrc_A              (CoarseCloudLayer, Latitude, Longitude) float32 ...\n",
       "    CoarseCloudPres_A_max         (CoarseCloudLayer, Latitude, Longitude) float32 ...\n",
       "    CloudTopPres_TqJ_D_ct         (Latitude, Longitude) float32 ...\n",
       "    RelHum_liquid_D_ct            (H2OPressureLev, Latitude, Longitude) float32 ...\n",
       "    OLR_TqJ_D_max                 (Latitude, Longitude) float32 ...\n",
       "    H2O_MMR_Surf_TqJ_A_sdev       (Latitude, Longitude) float32 ...\n",
       "    TotCldLiqH2O_MW_A             (Latitude, Longitude) float32 ...\n",
       "    TotH2OVap_D_sdev              (Latitude, Longitude) float32 ...\n",
       "    CloudTopTemp_A_ct             (Latitude, Longitude) float32 ...\n",
       "    CO_VMR_A_ct                   (StdPressureLev, Latitude, Longitude) float32 ...\n",
       "    FineCloudFrc_TqJ_A_min        (FineCloudLayer, Latitude, Longitude) float32 ...\n",
       "    Temperature_TqJ_A_err         (StdPressureLev, Latitude, Longitude) float32 ...\n",
       "    OLR_TqJ_A_min                 (Latitude, Longitude) float32 ...\n",
       "    CH4_VMR_D_ct                  (StdPressureLev, Latitude, Longitude) float32 ...\n",
       "    RelHum_liquid_A               (H2OPressureLev, Latitude, Longitude) float32 ...\n",
       "    O3_VMR_A_err                  (StdPressureLev, Latitude, Longitude) float32 ...\n",
       "    TropTemp_TqJ_A_sdev           (Latitude, Longitude) float32 ...\n",
       "    ClrOLR_TqJ_A_min              (Latitude, Longitude) float32 ...\n",
       "    CloudFrc_D_min                (Latitude, Longitude) float32 ...\n",
       "    TotH2OVap_TqJ_D_min           (Latitude, Longitude) float32 ...\n",
       "    CloudFrc_TqJ_D_sdev           (Latitude, Longitude) float32 ...\n",
       "    CoarseCloudFrc_TqJ_A_min      (CoarseCloudLayer, Latitude, Longitude) float32 ...\n",
       "    FineCloudFrc_TqJ_A_ct         (FineCloudLayer, Latitude, Longitude) float32 ...\n",
       "    TotO3_A                       (Latitude, Longitude) float32 ...\n",
       "    RelHum_liquid_D_min           (H2OPressureLev, Latitude, Longitude) float32 ...\n",
       "    TropPres_A_sdev               (Latitude, Longitude) float32 ...\n",
       "    CoarseCloudPres_TqJ_D_min     (CoarseCloudLayer, Latitude, Longitude) float32 ...\n",
       "    TotH2OVap_A_ct                (Latitude, Longitude) float32 ...\n",
       "    TropTemp_TqJ_A                (Latitude, Longitude) float32 ...\n",
       "    RelHum_TqJ_A                  (H2OPressureLev, Latitude, Longitude) float32 ...\n",
       "    RelHum_liquid_A_sdev          (H2OPressureLev, Latitude, Longitude) float32 ...\n",
       "    GPHeight_A_ct                 (StdPressureLev, Latitude, Longitude) float32 ...\n",
       "    SurfPres_Forecast_TqJ_D       (Latitude, Longitude) float32 ...\n",
       "    RelHum_liquid_A_min           (H2OPressureLev, Latitude, Longitude) float32 ...\n",
       "    TropTemp_TqJ_D_sdev           (Latitude, Longitude) float32 ...\n",
       "    TotO3_TqJ_D_sdev              (Latitude, Longitude) float32 ...\n",
       "    GPHeight_MW_A_ct              (StdPressureLev, Latitude, Longitude) float32 ...\n",
       "    TropPres_A_ct                 (Latitude, Longitude) float32 ...\n",
       "    EmisIR_D_min                  (EmisFreqIR, Latitude, Longitude) float32 ...\n",
       "    TotCH4_D_ct                   (Latitude, Longitude) float32 ...\n",
       "    SurfAirTemp_D_max             (Latitude, Longitude) float32 ...\n",
       "    CH4_VMR_A_err                 (StdPressureLev, Latitude, Longitude) float32 ...\n",
       "    TropHeight_A_ct               (Latitude, Longitude) float32 ...\n",
       "    SurfSkinTemp_A_ct             (Latitude, Longitude) float32 ...\n",
       "    CoarseCloudFrc_A_sdev         (CoarseCloudLayer, Latitude, Longitude) float32 ...\n",
       "    CloudTopTemp_A_max            (Latitude, Longitude) float32 ...\n",
       "    FineCloudFrc_TqJ_D            (FineCloudLayer, Latitude, Longitude) float32 ...\n",
       "    H2O_MMR_A_max                 (H2OPressureLev, Latitude, Longitude) float32 ...\n",
       "    ClrOLR_TqJ_D_min              (Latitude, Longitude) float32 ...\n",
       "    TotO3_TqJ_A                   (Latitude, Longitude) float32 ...\n",
       "    H2O_MMR_Lyr_A_ct              (H2OPressureLay, Latitude, Longitude) float32 ...\n",
       "    CloudTopTemp_TqJ_A            (Latitude, Longitude) float32 ...\n",
       "    Emis_MW_D_sdev                (EmisFreqMW, Latitude, Longitude) float32 ...\n",
       "    RelHumSurf_liquid_TqJ_A_sdev  (Latitude, Longitude) float32 ...\n",
       "    CloudFrc_TqJ_A_ct             (Latitude, Longitude) float32 ...\n",
       "    OLR_D_max                     (Latitude, Longitude) float32 ...\n",
       "    OLR_TqJ_D_ct                  (Latitude, Longitude) float32 ...\n",
       "    RelHum_TqJ_A_sdev             (H2OPressureLev, Latitude, Longitude) float32 ...\n",
       "    CO_VMR_TqJ_D_min              (StdPressureLev, Latitude, Longitude) float32 ...\n",
       "    CloudTopPres_A_min            (Latitude, Longitude) float32 ...\n",
       "    ClrOLR_TqJ_A_ct               (Latitude, Longitude) float32 ...\n",
       "    TropPres_A                    (Latitude, Longitude) float32 ...\n",
       "    TotalCounts_D                 (Latitude, Longitude) float32 ...\n",
       "    RelHumSurf_liquid_A_ct        (Latitude, Longitude) float32 ...\n",
       "    H2O_MMR_TqJ_A_max             (H2OPressureLev, Latitude, Longitude) float32 ...\n",
       "    TotCO_A_sdev                  (Latitude, Longitude) float32 ...\n",
       "    ClrOLR_D_sdev                 (Latitude, Longitude) float32 ...\n",
       "    Temperature_TqJ_A_sdev        (StdPressureLev, Latitude, Longitude) float32 ...\n",
       "    H2O_MMR_D_max                 (H2OPressureLev, Latitude, Longitude) float32 ...\n",
       "    TotCO_TqJ_D_sdev              (Latitude, Longitude) float32 ...\n",
       "    SurfSkinTemp_A                (Latitude, Longitude) float32 ...\n",
       "    SurfSkinTemp_D_sdev           (Latitude, Longitude) float32 ...\n",
       "    H2O_MMR_Surf_A_ct             (Latitude, Longitude) float32 ...\n",
       "    TropHeight_D_max              (Latitude, Longitude) float32 ...\n",
       "    CoarseCloudTemp_TqJ_A_min     (CoarseCloudLayer, Latitude, Longitude) float32 ...\n",
       "    TropTemp_A                    (Latitude, Longitude) float32 ...\n",
       "    TropHeight_A_sdev             (Latitude, Longitude) float32 ...\n",
       "    TotCldLiqH2O_MW_A_max         (Latitude, Longitude) float32 ...\n",
       "    TotCH4_TqJ_D                  (Latitude, Longitude) float32 ...\n",
       "    CloudFrc_A_min                (Latitude, Longitude) float32 ...\n",
       "    RelHum_A                      (H2OPressureLev, Latitude, Longitude) float32 ...\n",
       "    CloudTopTemp_D                (Latitude, Longitude) float32 ...\n",
       "    Temperature_D_max             (StdPressureLev, Latitude, Longitude) float32 ...\n",
       "    CloudTopPres_A_max            (Latitude, Longitude) float32 ...\n",
       "    CoarseCloudTemp_A_min         (CoarseCloudLayer, Latitude, Longitude) float32 ...\n",
       "    TropTemp_TqJ_D_ct             (Latitude, Longitude) float32 ...\n",
       "    Temperature_TqJ_D_max         (StdPressureLev, Latitude, Longitude) float32 ...\n",
       "    RelHumSurf_D_sdev             (Latitude, Longitude) float32 ...\n",
       "    CloudFrc_TqJ_A_min            (Latitude, Longitude) float32 ...\n",
       "    TotCldLiqH2O_MW_D_ct          (Latitude, Longitude) float32 ...\n",
       "    H2O_MMR_Surf_A                (Latitude, Longitude) float32 ...\n",
       "    TropPres_D                    (Latitude, Longitude) float32 ...\n",
       "    CoarseCloudFrc_D              (CoarseCloudLayer, Latitude, Longitude) float32 ...\n",
       "    CoarseCloudFrc_TqJ_A_ct       (CoarseCloudLayer, Latitude, Longitude) float32 ...\n",
       "    CloudFrc_D_err                (Latitude, Longitude) float32 ...\n",
       "    O3_VMR_TqJ_D_err              (StdPressureLev, Latitude, Longitude) float32 ...\n",
       "    SurfSkinTemp_D_min            (Latitude, Longitude) float32 ...\n",
       "    TotCO_TqJ_A_min               (Latitude, Longitude) float32 ...\n",
       "    H2O_MMR_Surf_TqJ_A_min        (Latitude, Longitude) float32 ...\n",
       "    TotCldLiqH2O_MW_D_min         (Latitude, Longitude) float32 ...\n",
       "    H2O_MMR_Lyr_D_min             (H2OPressureLay, Latitude, Longitude) float32 ...\n",
       "    CoarseCloudFrc_D_sdev         (CoarseCloudLayer, Latitude, Longitude) float32 ...\n",
       "    RelHum_TqJ_A_min              (H2OPressureLev, Latitude, Longitude) float32 ...\n",
       "    TotCO_A_min                   (Latitude, Longitude) float32 ...\n",
       "    TotCO_D_ct                    (Latitude, Longitude) float32 ...\n",
       "    TropTemp_TqJ_A_ct             (Latitude, Longitude) float32 ...\n",
       "    CH4_VMR_D                     (StdPressureLev, Latitude, Longitude) float32 ...\n",
       "    RelHum_liquid_TqJ_D_sdev      (H2OPressureLev, Latitude, Longitude) float32 ...\n",
       "    ClrOLR_TqJ_D_ct               (Latitude, Longitude) float32 ...\n",
       "    CoarseCloudTemp_TqJ_A_ct      (CoarseCloudLayer, Latitude, Longitude) float32 ...\n",
       "    EmisIR_TqJ_A                  (EmisFreqIR, Latitude, Longitude) float32 ...\n",
       "    Emis_MW_A_sdev                (EmisFreqMW, Latitude, Longitude) float32 ...\n",
       "    SurfSkinTemp_TqJ_A_min        (Latitude, Longitude) float32 ...\n",
       "    H2O_MMR_Surf_TqJ_D_sdev       (Latitude, Longitude) float32 ...\n",
       "    H2O_MMR_Lyr_TqJ_D_ct          (H2OPressureLay, Latitude, Longitude) float32 ...\n",
       "    TotCH4_TqJ_D_sdev             (Latitude, Longitude) float32 ...\n",
       "    CloudFrc_A                    (Latitude, Longitude) float32 ...\n",
       "    SurfPres_Forecast_TqJ_A_min   (Latitude, Longitude) float32 ...\n",
       "    RelHumSurf_D                  (Latitude, Longitude) float32 ...\n",
       "    TotCO_D_max                   (Latitude, Longitude) float32 ...\n",
       "    EmisIR_TqJ_A_max              (EmisFreqIR, Latitude, Longitude) float32 ...\n",
       "    EmisIR_D_ct                   (EmisFreqIR, Latitude, Longitude) float32 ...\n",
       "    RelHum_liquid_A_ct            (H2OPressureLev, Latitude, Longitude) float32 ...\n",
       "    GPHeight_TqJ_D_ct             (StdPressureLev, Latitude, Longitude) float32 ...\n",
       "    TropHeight_A_min              (Latitude, Longitude) float32 ...\n",
       "    TotH2OVap_MW_D                (Latitude, Longitude) float32 ...\n",
       "    RelHumSurf_liquid_D_ct        (Latitude, Longitude) float32 ...\n",
       "    CO_VMR_TqJ_A_ct               (StdPressureLev, Latitude, Longitude) float32 ...\n",
       "    CoarseCloudFrc_TqJ_A_max      (CoarseCloudLayer, Latitude, Longitude) float32 ...\n",
       "    TotCH4_A_min                  (Latitude, Longitude) float32 ...\n",
       "    TropTemp_D_max                (Latitude, Longitude) float32 ...\n",
       "    TotalCounts_TqJ_D             (Latitude, Longitude) float32 ...\n",
       "    OLR_A_ct                      (Latitude, Longitude) float32 ...\n",
       "    CloudTopPres_TqJ_A_sdev       (Latitude, Longitude) float32 ...\n",
       "    TropPres_TqJ_D_min            (Latitude, Longitude) float32 ...\n",
       "    H2O_MMR_Lyr_TqJ_D             (H2OPressureLay, Latitude, Longitude) float32 ...\n",
       "    CoarseCloudTemp_A_max         (CoarseCloudLayer, Latitude, Longitude) float32 ...\n",
       "    CoarseCloudPres_A_ct          (CoarseCloudLayer, Latitude, Longitude) float32 ...\n",
       "    RelHum_TqJ_D_min              (H2OPressureLev, Latitude, Longitude) float32 ...\n",
       "    Temperature_TqJ_D_min         (StdPressureLev, Latitude, Longitude) float32 ...\n",
       "    CoarseCloudTemp_A_ct          (CoarseCloudLayer, Latitude, Longitude) float32 ...\n",
       "    ClrOLR_A_sdev                 (Latitude, Longitude) float32 ...\n",
       "    TropTemp_TqJ_A_min            (Latitude, Longitude) float32 ...\n",
       "    TropHeight_TqJ_A              (Latitude, Longitude) float32 ...\n",
       "    SurfSkinTemp_TqJ_D_err        (Latitude, Longitude) float32 ...\n",
       "    O3_VMR_TqJ_D_max              (StdPressureLev, Latitude, Longitude) float32 ...\n",
       "    ClrOLR_TqJ_A_err              (Latitude, Longitude) float32 ...\n",
       "    CoarseCloudFrc_TqJ_A          (CoarseCloudLayer, Latitude, Longitude) float32 ...\n",
       "    SurfPres_Forecast_TqJ_A_ct    (Latitude, Longitude) float32 ...\n",
       "    SurfSkinTemp_D_max            (Latitude, Longitude) float32 ...\n",
       "    FineCloudFrc_D_min            (FineCloudLayer, Latitude, Longitude) float32 ...\n",
       "    OLR_TqJ_A_ct                  (Latitude, Longitude) float32 ...\n",
       "    RelHum_liquid_TqJ_A_max       (H2OPressureLev, Latitude, Longitude) float32 ...\n",
       "    RelHum_D_min                  (H2OPressureLev, Latitude, Longitude) float32 ...\n",
       "    CoarseCloudPres_TqJ_A         (CoarseCloudLayer, Latitude, Longitude) float32 ...\n",
       "    RelHum_D_ct                   (H2OPressureLev, Latitude, Longitude) float32 ...\n",
       "    H2O_MMR_Lyr_D                 (H2OPressureLay, Latitude, Longitude) float32 ...\n",
       "    SurfAirTemp_D_ct              (Latitude, Longitude) float32 ...\n",
       "    EmisIR_TqJ_D_max              (EmisFreqIR, Latitude, Longitude) float32 ...\n",
       "    SurfAirTemp_A                 (Latitude, Longitude) float32 ...\n",
       "    TotCldLiqH2O_MW_A_sdev        (Latitude, Longitude) float32 ...\n",
       "    TotCO_A                       (Latitude, Longitude) float32 ...\n",
       "    FineCloudFrc_TqJ_D_max        (FineCloudLayer, Latitude, Longitude) float32 ...\n",
       "    CloudFrc_TqJ_A_sdev           (Latitude, Longitude) float32 ...\n",
       "    TotO3_D_sdev                  (Latitude, Longitude) float32 ...\n",
       "    RelHum_A_max                  (H2OPressureLev, Latitude, Longitude) float32 ...\n",
       "    H2O_MMR_Surf_TqJ_A_err        (Latitude, Longitude) float32 ...\n",
       "    CloudTopPres_A_sdev           (Latitude, Longitude) float32 ...\n",
       "    FineCloudFrc_TqJ_A            (FineCloudLayer, Latitude, Longitude) float32 ...\n",
       "    TotCO_A_max                   (Latitude, Longitude) float32 ...\n",
       "    RelHum_liquid_TqJ_D_min       (H2OPressureLev, Latitude, Longitude) float32 ...\n",
       "    CloudTopTemp_D_sdev           (Latitude, Longitude) float32 ...\n",
       "    RelHumSurf_liquid_TqJ_A       (Latitude, Longitude) float32 ...\n",
       "    H2O_MMR_A_err                 (H2OPressureLev, Latitude, Longitude) float32 ...\n",
       "    CoarseCloudTemp_TqJ_A_sdev    (CoarseCloudLayer, Latitude, Longitude) float32 ...\n",
       "    H2O_MMR_D                     (H2OPressureLev, Latitude, Longitude) float32 ...\n",
       "    CloudFrc_A_err                (Latitude, Longitude) float32 ...\n",
       "    TotH2OVap_TqJ_A_sdev          (Latitude, Longitude) float32 ...\n",
       "    GPHeight_MW_D_sdev            (StdPressureLev, Latitude, Longitude) float32 ...\n",
       "    CoarseCloudFrc_A_ct           (CoarseCloudLayer, Latitude, Longitude) float32 ...\n",
       "    CO_VMR_D_ct                   (StdPressureLev, Latitude, Longitude) float32 ...\n",
       "    H2O_MMR_Surf_TqJ_D            (Latitude, Longitude) float32 ...\n",
       "    OLR_A_min                     (Latitude, Longitude) float32 ...\n",
       "    CloudFrc_D                    (Latitude, Longitude) float32 ...\n",
       "    FineCloudFrc_TqJ_D_sdev       (FineCloudLayer, Latitude, Longitude) float32 ...\n",
       "    TotCO_TqJ_D_ct                (Latitude, Longitude) float32 ...\n",
       "    TotH2OVap_TqJ_A_max           (Latitude, Longitude) float32 ...\n",
       "    CoarseCloudPres_TqJ_A_max     (CoarseCloudLayer, Latitude, Longitude) float32 ...\n",
       "    TotH2OVap_MW_A_min            (Latitude, Longitude) float32 ...\n",
       "    H2O_MMR_D_min                 (H2OPressureLev, Latitude, Longitude) float32 ...\n",
       "    EmisIR_A_err                  (EmisFreqIR, Latitude, Longitude) float32 ...\n",
       "    GPHeight_TqJ_A_max            (StdPressureLev, Latitude, Longitude) float32 ...\n",
       "    RelHum_liquid_D_sdev          (H2OPressureLev, Latitude, Longitude) float32 ...\n",
       "    O3_VMR_A                      (StdPressureLev, Latitude, Longitude) float32 ...\n",
       "    TotH2OVap_TqJ_D               (Latitude, Longitude) float32 ...\n",
       "    CloudTopTemp_TqJ_A_max        (Latitude, Longitude) float32 ...\n",
       "    RelHumSurf_A                  (Latitude, Longitude) float32 ...\n",
       "    OLR_TqJ_A                     (Latitude, Longitude) float32 ...\n",
       "    GPHeight_A_min                (StdPressureLev, Latitude, Longitude) float32 ...\n",
       "    SurfSkinTemp_TqJ_A_ct         (Latitude, Longitude) float32 ...\n",
       "    H2O_MMR_Lyr_TqJ_D_max         (H2OPressureLay, Latitude, Longitude) float32 ...\n",
       "    SurfAirTemp_A_min             (Latitude, Longitude) float32 ...\n",
       "    CoarseCloudFrc_D_min          (CoarseCloudLayer, Latitude, Longitude) float32 ...\n",
       "    TotCH4_TqJ_A_ct               (Latitude, Longitude) float32 ...\n",
       "    CoarseCloudTemp_A_sdev        (CoarseCloudLayer, Latitude, Longitude) float32 ...\n",
       "    CloudTopPres_TqJ_A_max        (Latitude, Longitude) float32 ...\n",
       "    TotH2OVap_MW_D_ct             (Latitude, Longitude) float32 ...\n",
       "    CO_VMR_A_max                  (StdPressureLev, Latitude, Longitude) float32 ...\n",
       "    TropHeight_TqJ_A_max          (Latitude, Longitude) float32 ...\n",
       "    GPHeight_MW_D                 (StdPressureLev, Latitude, Longitude) float32 ...\n",
       "    GPHeight_D                    (StdPressureLev, Latitude, Longitude) float32 ...\n",
       "    Temperature_MW_D_max          (StdPressureLev, Latitude, Longitude) float32 ...\n",
       "    Temperature_D                 (StdPressureLev, Latitude, Longitude) float32 ...\n",
       "    H2O_MMR_Surf_A_min            (Latitude, Longitude) float32 ...\n",
       "    TropHeight_TqJ_A_sdev         (Latitude, Longitude) float32 ...\n",
       "    CloudTopTemp_TqJ_A_min        (Latitude, Longitude) float32 ...\n",
       "    GPHeight_D_min                (StdPressureLev, Latitude, Longitude) float32 ...\n",
       "    CloudTopTemp_TqJ_A_ct         (Latitude, Longitude) float32 ...\n",
       "    GPHeight_TqJ_D_sdev           (StdPressureLev, Latitude, Longitude) float32 ...\n",
       "    TropHeight_TqJ_D_max          (Latitude, Longitude) float32 ...\n",
       "    ClrOLR_D_min                  (Latitude, Longitude) float32 ...\n",
       "    CoarseCloudTemp_A             (CoarseCloudLayer, Latitude, Longitude) float32 ...\n",
       "    H2O_MMR_D_err                 (H2OPressureLev, Latitude, Longitude) float32 ...\n",
       "    CoarseCloudPres_TqJ_A_ct      (CoarseCloudLayer, Latitude, Longitude) float32 ...\n",
       "    H2O_MMR_Lyr_A_sdev            (H2OPressureLay, Latitude, Longitude) float32 ...\n",
       "    CH4_VMR_TqJ_A_max             (StdPressureLev, Latitude, Longitude) float32 ...\n",
       "    TropTemp_A_ct                 (Latitude, Longitude) float32 ...\n",
       "    H2O_MMR_Lyr_TqJ_D_min         (H2OPressureLay, Latitude, Longitude) float32 ...\n",
       "    TropTemp_TqJ_D                (Latitude, Longitude) float32 ...\n",
       "    SurfPres_Forecast_A_ct        (Latitude, Longitude) float32 ...\n",
       "    TropHeight_TqJ_D              (Latitude, Longitude) float32 ...\n",
       "    LandSeaMask                   (Latitude, Longitude) float32 ...\n",
       "    CloudFrc_A_max                (Latitude, Longitude) float32 ...\n",
       "    TropTemp_TqJ_D_min            (Latitude, Longitude) float32 ...\n",
       "    H2O_MMR_Surf_D_sdev           (Latitude, Longitude) float32 ...\n",
       "    CloudTopPres_D_ct             (Latitude, Longitude) float32 ...\n",
       "    RelHumSurf_TqJ_A_sdev         (Latitude, Longitude) float32 ...\n",
       "    CoarseCloudFrc_A_min          (CoarseCloudLayer, Latitude, Longitude) float32 ...\n",
       "    GPHeight_TqJ_A_ct             (StdPressureLev, Latitude, Longitude) float32 ...\n",
       "    GPHeight_MW_D_ct              (StdPressureLev, Latitude, Longitude) float32 ...\n",
       "    TropTemp_A_min                (Latitude, Longitude) float32 ...\n",
       "    CloudTopTemp_D_err            (Latitude, Longitude) float32 ...\n",
       "    CoarseCloudTemp_TqJ_D_ct      (CoarseCloudLayer, Latitude, Longitude) float32 ...\n",
       "    Temperature_MW_D              (StdPressureLev, Latitude, Longitude) float32 ...\n",
       "    FineCloudFrc_D_sdev           (FineCloudLayer, Latitude, Longitude) float32 ...\n",
       "    TotCO_D_min                   (Latitude, Longitude) float32 ...\n",
       "    ClrOLR_TqJ_A_max              (Latitude, Longitude) float32 ...\n",
       "    CoarseCloudPres_TqJ_D         (CoarseCloudLayer, Latitude, Longitude) float32 ...\n",
       "    RelHumSurf_A_ct               (Latitude, Longitude) float32 ...\n",
       "    CoarseCloudPres_A_sdev        (CoarseCloudLayer, Latitude, Longitude) float32 ...\n",
       "    CoarseCloudPres_D_ct          (CoarseCloudLayer, Latitude, Longitude) float32 ...\n",
       "    H2O_MMR_Surf_TqJ_D_max        (Latitude, Longitude) float32 ...\n",
       "    TropPres_TqJ_A                (Latitude, Longitude) float32 ...\n",
       "    TotH2OVap_TqJ_D_sdev          (Latitude, Longitude) float32 ...\n",
       "    RelHumSurf_TqJ_D_min          (Latitude, Longitude) float32 ...\n",
       "    ClrOLR_D_err                  (Latitude, Longitude) float32 ...\n",
       "    GPHeight_D_ct                 (StdPressureLev, Latitude, Longitude) float32 ...\n",
       "    CoarseCloudPres_A             (CoarseCloudLayer, Latitude, Longitude) float32 ...\n",
       "    H2O_MMR_TqJ_A_err             (H2OPressureLev, Latitude, Longitude) float32 ...\n",
       "    EmisIR_TqJ_D_ct               (EmisFreqIR, Latitude, Longitude) float32 ...\n",
       "    TotCH4_A_max                  (Latitude, Longitude) float32 ...\n",
       "    Emis_MW_D_ct                  (EmisFreqMW, Latitude, Longitude) float32 ...\n",
       "    H2O_MMR_Lyr_D_max             (H2OPressureLay, Latitude, Longitude) float32 ...\n",
       "    CH4_VMR_TqJ_A_min             (StdPressureLev, Latitude, Longitude) float32 ...\n",
       "    TropHeight_D                  (Latitude, Longitude) float32 ...\n",
       "    TropPres_D_max                (Latitude, Longitude) float32 ...\n",
       "    Temperature_MW_A_sdev         (StdPressureLev, Latitude, Longitude) float32 ...\n",
       "    RelHum_D                      (H2OPressureLev, Latitude, Longitude) float32 ...\n",
       "    EmisIR_TqJ_D                  (EmisFreqIR, Latitude, Longitude) float32 ...\n",
       "    EmisIR_A                      (EmisFreqIR, Latitude, Longitude) float32 ...\n",
       "    O3_VMR_TqJ_A_min              (StdPressureLev, Latitude, Longitude) float32 ...\n",
       "    TotO3_A_max                   (Latitude, Longitude) float32 ...\n",
       "    ClrOLR_D_max                  (Latitude, Longitude) float32 ...\n",
       "    CO_VMR_A_sdev                 (StdPressureLev, Latitude, Longitude) float32 ...\n",
       "    CoarseCloudFrc_A_max          (CoarseCloudLayer, Latitude, Longitude) float32 ...\n",
       "    Emis_MW_A                     (EmisFreqMW, Latitude, Longitude) float32 ...\n",
       "    RelHumSurf_liquid_D_max       (Latitude, Longitude) float32 ...\n",
       "    GPHeight_TqJ_A                (StdPressureLev, Latitude, Longitude) float32 ...\n",
       "    OLR_A                         (Latitude, Longitude) float32 ...\n",
       "    TropPres_TqJ_A_sdev           (Latitude, Longitude) float32 ...\n",
       "    TotalCounts_MW_A              (Latitude, Longitude) float32 ...\n",
       "    CloudTopPres_TqJ_D            (Latitude, Longitude) float32 ...\n",
       "    RelHumSurf_liquid_TqJ_D       (Latitude, Longitude) float32 ...\n",
       "    TotCO_TqJ_D                   (Latitude, Longitude) float32 ...\n",
       "    TotCO_D_sdev                  (Latitude, Longitude) float32 ...\n",
       "    EmisIR_D_sdev                 (EmisFreqIR, Latitude, Longitude) float32 ...\n",
       "    H2O_MMR_Surf_TqJ_A_max        (Latitude, Longitude) float32 ...\n",
       "    CO_VMR_D_err                  (StdPressureLev, Latitude, Longitude) float32 ...\n",
       "    H2O_MMR_TqJ_D_err             (H2OPressureLev, Latitude, Longitude) float32 ...\n",
       "    SurfAirTemp_TqJ_A             (Latitude, Longitude) float32 ...\n",
       "    ClrOLR_A_max                  (Latitude, Longitude) float32 ...\n",
       "    RelHumSurf_liquid_TqJ_A_max   (Latitude, Longitude) float32 ...\n",
       "    CoarseCloudTemp_D_sdev        (CoarseCloudLayer, Latitude, Longitude) float32 ...\n",
       "    GPHeight_TqJ_A_sdev           (StdPressureLev, Latitude, Longitude) float32 ...\n",
       "    H2O_MMR_Lyr_TqJ_D_sdev        (H2OPressureLay, Latitude, Longitude) float32 ...\n",
       "    H2O_MMR_Surf_TqJ_D_ct         (Latitude, Longitude) float32 ...\n",
       "    RelHumSurf_liquid_D           (Latitude, Longitude) float32 ...\n",
       "    SurfAirTemp_D_sdev            (Latitude, Longitude) float32 ...\n",
       "    CloudTopPres_TqJ_A            (Latitude, Longitude) float32 ...\n",
       "    RelHumSurf_liquid_TqJ_A_min   (Latitude, Longitude) float32 ...\n",
       "    TotH2OVap_TqJ_A_min           (Latitude, Longitude) float32 ...\n",
       "    TotH2OVap_MW_A                (Latitude, Longitude) float32 ...\n",
       "    SurfAirTemp_TqJ_D             (Latitude, Longitude) float32 ...\n",
       "    RelHum_TqJ_D_ct               (H2OPressureLev, Latitude, Longitude) float32 ...\n",
       "    TotCO_TqJ_A                   (Latitude, Longitude) float32 ...\n",
       "    SurfSkinTemp_D                (Latitude, Longitude) float32 ...\n",
       "    CoarseCloudPres_D_max         (CoarseCloudLayer, Latitude, Longitude) float32 ...\n",
       "    H2O_MMR_A_min                 (H2OPressureLev, Latitude, Longitude) float32 ...\n",
       "    ClrOLR_TqJ_D                  (Latitude, Longitude) float32 ...\n",
       "    CoarseCloudFrc_D_ct           (CoarseCloudLayer, Latitude, Longitude) float32 ...\n",
       "    RelHum_liquid_TqJ_A           (H2OPressureLev, Latitude, Longitude) float32 ...\n",
       "    CH4_VMR_TqJ_A_err             (StdPressureLev, Latitude, Longitude) float32 ...\n",
       "    CoarseCloudTemp_D_max         (CoarseCloudLayer, Latitude, Longitude) float32 ...\n",
       "    RelHumSurf_liquid_A_min       (Latitude, Longitude) float32 ...\n",
       "    RelHumSurf_TqJ_A_min          (Latitude, Longitude) float32 ...\n",
       "    TotCO_TqJ_A_max               (Latitude, Longitude) float32 ...\n",
       "    Temperature_MW_A_min          (StdPressureLev, Latitude, Longitude) float32 ...\n",
       "    RelHumSurf_liquid_D_min       (Latitude, Longitude) float32 ...\n",
       "    Temperature_MW_D_sdev         (StdPressureLev, Latitude, Longitude) float32 ...\n",
       "    TotCH4_D                      (Latitude, Longitude) float32 ...\n",
       "    EmisIR_TqJ_D_min              (EmisFreqIR, Latitude, Longitude) float32 ...\n",
       "    TotCH4_A                      (Latitude, Longitude) float32 ...\n",
       "    RelHum_TqJ_D                  (H2OPressureLev, Latitude, Longitude) float32 ...\n",
       "    H2O_MMR_Lyr_TqJ_A_err         (H2OPressureLay, Latitude, Longitude) float32 ...\n",
       "    SurfAirTemp_TqJ_A_min         (Latitude, Longitude) float32 ...\n",
       "    CH4_VMR_A_min                 (StdPressureLev, Latitude, Longitude) float32 ...\n",
       "    TropTemp_D                    (Latitude, Longitude) float32 ...\n",
       "    CloudFrc_D_ct                 (Latitude, Longitude) float32 ...\n",
       "    GPHeight_MW_A_min             (StdPressureLev, Latitude, Longitude) float32 ...\n",
       "    CO_VMR_TqJ_A                  (StdPressureLev, Latitude, Longitude) float32 ...\n",
       "    TotO3_D_ct                    (Latitude, Longitude) float32 ...\n",
       "    TotO3_TqJ_A_ct                (Latitude, Longitude) float32 ...\n",
       "    Temperature_A                 (StdPressureLev, Latitude, Longitude) float32 ...\n",
       "    GPHeight_MW_D_max             (StdPressureLev, Latitude, Longitude) float32 ...\n",
       "    ClrOLR_TqJ_D_err              (Latitude, Longitude) float32 ...\n",
       "    CloudTopTemp_TqJ_D_sdev       (Latitude, Longitude) float32 ...\n",
       "    Temperature_D_sdev            (StdPressureLev, Latitude, Longitude) float32 ...\n",
       "    OLR_D_ct                      (Latitude, Longitude) float32 ...\n",
       "    Temperature_A_sdev            (StdPressureLev, Latitude, Longitude) float32 ...\n",
       "    SurfSkinTemp_TqJ_A_max        (Latitude, Longitude) float32 ...\n",
       "    TotH2OVap_TqJ_D_max           (Latitude, Longitude) float32 ...\n",
       "    ClrOLR_TqJ_D_max              (Latitude, Longitude) float32 ...\n",
       "    RelHum_liquid_TqJ_D_ct        (H2OPressureLev, Latitude, Longitude) float32 ...\n",
       "    O3_VMR_D_ct                   (StdPressureLev, Latitude, Longitude) float32 ...\n",
       "    Temperature_A_min             (StdPressureLev, Latitude, Longitude) float32 ...\n",
       "    TropHeight_TqJ_D_sdev         (Latitude, Longitude) float32 ...\n",
       "    TotCO_TqJ_D_min               (Latitude, Longitude) float32 ...\n",
       "    Emis_MW_D_max                 (EmisFreqMW, Latitude, Longitude) float32 ...\n",
       "    EmisIR_D                      (EmisFreqIR, Latitude, Longitude) float32 ...\n",
       "    CoarseCloudPres_TqJ_D_max     (CoarseCloudLayer, Latitude, Longitude) float32 ...\n",
       "    FineCloudFrc_A_ct             (FineCloudLayer, Latitude, Longitude) float32 ...\n",
       "    RelHum_TqJ_D_sdev             (H2OPressureLev, Latitude, Longitude) float32 ...\n",
       "    SurfPres_Forecast_A_max       (Latitude, Longitude) float32 ...\n",
       "    GPHeight_D_max                (StdPressureLev, Latitude, Longitude) float32 ...\n",
       "    TotH2OVap_A                   (Latitude, Longitude) float32 ...\n",
       "    EmisIR_A_min                  (EmisFreqIR, Latitude, Longitude) float32 ...\n",
       "    TotO3_TqJ_D_min               (Latitude, Longitude) float32 ...\n",
       "    SurfSkinTemp_TqJ_A_sdev       (Latitude, Longitude) float32 ...\n",
       "    TropHeight_TqJ_A_ct           (Latitude, Longitude) float32 ...\n",
       "    SurfSkinTemp_A_max            (Latitude, Longitude) float32 ...\n",
       "    CloudTopPres_TqJ_D_max        (Latitude, Longitude) float32 ...\n",
       "    CoarseCloudTemp_D_min         (CoarseCloudLayer, Latitude, Longitude) float32 ...\n",
       "    CO_VMR_TqJ_D_err              (StdPressureLev, Latitude, Longitude) float32 ...\n",
       "    TotO3_A_min                   (Latitude, Longitude) float32 ...\n",
       "    CH4_VMR_D_min                 (StdPressureLev, Latitude, Longitude) float32 ...\n",
       "    Temperature_D_min             (StdPressureLev, Latitude, Longitude) float32 ...\n",
       "    TropHeight_A                  (Latitude, Longitude) float32 ...\n",
       "    SurfPres_Forecast_TqJ_D_ct    (Latitude, Longitude) float32 ...\n",
       "    CH4_VMR_D_max                 (StdPressureLev, Latitude, Longitude) float32 ...\n",
       "    TotO3_D_err                   (Latitude, Longitude) float32 ...\n",
       "    CH4_VMR_A_sdev                (StdPressureLev, Latitude, Longitude) float32 ...\n",
       "    Temperature_TqJ_A_max         (StdPressureLev, Latitude, Longitude) float32 ...\n",
       "    TotH2OVap_D_max               (Latitude, Longitude) float32 ...\n",
       "    CO_VMR_A                      (StdPressureLev, Latitude, Longitude) float32 ...\n",
       "    H2O_MMR_TqJ_D_ct              (H2OPressureLev, Latitude, Longitude) float32 ...\n",
       "    ClrOLR_A_ct                   (Latitude, Longitude) float32 ...\n",
       "    TotCldLiqH2O_MW_D_err         (Latitude, Longitude) float32 ...\n",
       "    EmisIR_A_max                  (EmisFreqIR, Latitude, Longitude) float32 ...\n",
       "    H2O_MMR_TqJ_D_max             (H2OPressureLev, Latitude, Longitude) float32 ...\n",
       "    RelHumSurf_TqJ_A              (Latitude, Longitude) float32 ...\n",
       "    OLR_TqJ_A_max                 (Latitude, Longitude) float32 ...\n",
       "    Temperature_MW_A_ct           (StdPressureLev, Latitude, Longitude) float32 ...\n",
       "    CloudTopTemp_A                (Latitude, Longitude) float32 ...\n",
       "    CH4_VMR_D_sdev                (StdPressureLev, Latitude, Longitude) float32 ...\n",
       "    TotCldLiqH2O_MW_D             (Latitude, Longitude) float32 ...\n",
       "    CO_VMR_TqJ_A_err              (StdPressureLev, Latitude, Longitude) float32 ...\n",
       "    CloudTopPres_A_ct             (Latitude, Longitude) float32 ...\n",
       "    RelHum_liquid_TqJ_A_min       (H2OPressureLev, Latitude, Longitude) float32 ...\n",
       "    H2O_MMR_Lyr_TqJ_A             (H2OPressureLay, Latitude, Longitude) float32 ...\n",
       "    H2O_MMR_Lyr_D_ct              (H2OPressureLay, Latitude, Longitude) float32 ...\n",
       "    CloudFrc_D_max                (Latitude, Longitude) float32 ...\n",
       "    CH4_VMR_TqJ_D_err             (StdPressureLev, Latitude, Longitude) float32 ...\n",
       "    TotO3_TqJ_D_ct                (Latitude, Longitude) float32 ...\n",
       "    H2O_MMR_A_sdev                (H2OPressureLev, Latitude, Longitude) float32 ...\n",
       "    RelHum_liquid_TqJ_A_sdev      (H2OPressureLev, Latitude, Longitude) float32 ...\n",
       "    SurfSkinTemp_TqJ_D_min        (Latitude, Longitude) float32 ...\n",
       "    SurfAirTemp_TqJ_A_max         (Latitude, Longitude) float32 ...\n",
       "    SurfPres_Forecast_D_max       (Latitude, Longitude) float32 ...\n",
       "    GPHeight_A                    (StdPressureLev, Latitude, Longitude) float32 ...\n",
       "    EmisIR_TqJ_A_ct               (EmisFreqIR, Latitude, Longitude) float32 ...\n",
       "    O3_VMR_A_max                  (StdPressureLev, Latitude, Longitude) float32 ...\n",
       "    RelHumSurf_D_min              (Latitude, Longitude) float32 ...\n",
       "    OLR_A_err                     (Latitude, Longitude) float32 ...\n",
       "    SurfPres_Forecast_D_min       (Latitude, Longitude) float32 ...\n",
       "    RelHumSurf_TqJ_D_sdev         (Latitude, Longitude) float32 ...\n",
       "    H2O_MMR_Lyr_A_max             (H2OPressureLay, Latitude, Longitude) float32 ...\n",
       "    CoarseCloudFrc_TqJ_D_sdev     (CoarseCloudLayer, Latitude, Longitude) float32 ...\n",
       "    CoarseCloudFrc_D_max          (CoarseCloudLayer, Latitude, Longitude) float32 ...\n",
       "    TotH2OVap_MW_D_sdev           (Latitude, Longitude) float32 ...\n",
       "    TotO3_TqJ_A_max               (Latitude, Longitude) float32 ...\n",
       "    CH4_VMR_TqJ_A_sdev            (StdPressureLev, Latitude, Longitude) float32 ...\n",
       "    TropTemp_A_max                (Latitude, Longitude) float32 ...\n",
       "    CloudTopTemp_D_max            (Latitude, Longitude) float32 ...\n",
       "    TropPres_TqJ_A_min            (Latitude, Longitude) float32 ...\n",
       "    TropPres_TqJ_D_max            (Latitude, Longitude) float32 ...\n",
       "    EmisIR_TqJ_A_err              (EmisFreqIR, Latitude, Longitude) float32 ...\n",
       "    TropHeight_D_sdev             (Latitude, Longitude) float32 ...\n",
       "    RelHumSurf_liquid_A_sdev      (Latitude, Longitude) float32 ...\n",
       "    RelHumSurf_liquid_A           (Latitude, Longitude) float32 ...\n",
       "    TotO3_A_err                   (Latitude, Longitude) float32 ...\n",
       "    CO_VMR_TqJ_D_max              (StdPressureLev, Latitude, Longitude) float32 ...\n",
       "    FineCloudFrc_TqJ_D_min        (FineCloudLayer, Latitude, Longitude) float32 ...\n",
       "    CloudTopPres_TqJ_D_err        (Latitude, Longitude) float32 ...\n",
       "    TotO3_TqJ_A_err               (Latitude, Longitude) float32 ...\n",
       "    ClrOLR_D_ct                   (Latitude, Longitude) float32 ...\n",
       "    SurfPres_Forecast_TqJ_A       (Latitude, Longitude) float32 ...\n",
       "    CoarseCloudPres_TqJ_A_min     (CoarseCloudLayer, Latitude, Longitude) float32 ...\n",
       "    GPHeight_TqJ_A_min            (StdPressureLev, Latitude, Longitude) float32 ...\n",
       "    CoarseCloudTemp_TqJ_D         (CoarseCloudLayer, Latitude, Longitude) float32 ...\n",
       "    RelHum_liquid_D               (H2OPressureLev, Latitude, Longitude) float32 ...\n",
       "    SurfAirTemp_TqJ_A_ct          (Latitude, Longitude) float32 ...\n",
       "    H2O_MMR_Surf_A_max            (Latitude, Longitude) float32 ...\n",
       "    H2O_MMR_Lyr_TqJ_A_sdev        (H2OPressureLay, Latitude, Longitude) float32 ...\n",
       "    TotO3_A_ct                    (Latitude, Longitude) float32 ...\n",
       "    Temperature_MW_A_max          (StdPressureLev, Latitude, Longitude) float32 ...\n",
       "    TotH2OVap_MW_D_max            (Latitude, Longitude) float32 ...\n",
       "    GPHeight_A_sdev               (StdPressureLev, Latitude, Longitude) float32 ...\n",
       "    SurfAirTemp_TqJ_D_min         (Latitude, Longitude) float32 ...\n",
       "    SurfSkinTemp_D_err            (Latitude, Longitude) float32 ...\n",
       "    Emis_MW_A_max                 (EmisFreqMW, Latitude, Longitude) float32 ...\n",
       "    H2O_MMR_Lyr_D_err             (H2OPressureLay, Latitude, Longitude) float32 ...\n",
       "    TropPres_TqJ_A_ct             (Latitude, Longitude) float32 ...\n",
       "    OLR_TqJ_D_err                 (Latitude, Longitude) float32 ...\n",
       "    Emis_MW_A_min                 (EmisFreqMW, Latitude, Longitude) float32 ...\n",
       "    TropHeight_A_max              (Latitude, Longitude) float32 ...\n",
       "    FineCloudFrc_TqJ_D_ct         (FineCloudLayer, Latitude, Longitude) float32 ...\n",
       "    H2O_MMR_Lyr_TqJ_A_min         (H2OPressureLay, Latitude, Longitude) float32 ...\n",
       "    CoarseCloudFrc_TqJ_D_max      (CoarseCloudLayer, Latitude, Longitude) float32 ...\n",
       "    RelHumSurf_liquid_TqJ_D_sdev  (Latitude, Longitude) float32 ...\n",
       "    CoarseCloudTemp_TqJ_D_min     (CoarseCloudLayer, Latitude, Longitude) float32 ...\n",
       "    H2O_MMR_TqJ_D_min             (H2OPressureLev, Latitude, Longitude) float32 ...\n",
       "    TotH2OVap_D_err               (Latitude, Longitude) float32 ...\n",
       "    H2O_MMR_Lyr_A                 (H2OPressureLay, Latitude, Longitude) float32 ...\n",
       "    H2O_MMR_Surf_TqJ_A_ct         (Latitude, Longitude) float32 ...\n",
       "    H2O_MMR_Surf_D_err            (Latitude, Longitude) float32 ...\n",
       "    GPHeight_MW_A                 (StdPressureLev, Latitude, Longitude) float32 ...\n",
       "    SurfPres_Forecast_D           (Latitude, Longitude) float32 ...\n",
       "    SurfPres_Forecast_TqJ_D_max   (Latitude, Longitude) float32 ...\n",
       "    CloudFrc_D_sdev               (Latitude, Longitude) float32 ...\n",
       "    ClrOLR_TqJ_A_sdev             (Latitude, Longitude) float32 ...\n",
       "    O3_VMR_TqJ_D_min              (StdPressureLev, Latitude, Longitude) float32 ...\n",
       "    TotO3_D_max                   (Latitude, Longitude) float32 ...\n",
       "    TotO3_D_min                   (Latitude, Longitude) float32 ...\n",
       "    RelHumSurf_TqJ_D_max          (Latitude, Longitude) float32 ...\n",
       "    TotCH4_TqJ_D_max              (Latitude, Longitude) float32 ...\n",
       "    RelHumSurf_liquid_A_max       (Latitude, Longitude) float32 ...\n",
       "    SurfPres_Forecast_A_min       (Latitude, Longitude) float32 ...\n",
       "    CoarseCloudTemp_TqJ_D_max     (CoarseCloudLayer, Latitude, Longitude) float32 ...\n",
       "    TotCH4_TqJ_A                  (Latitude, Longitude) float32 ...\n",
       "    CH4_VMR_D_err                 (StdPressureLev, Latitude, Longitude) float32 ...\n",
       "    RelHumSurf_A_min              (Latitude, Longitude) float32 ...\n",
       "    CO_VMR_TqJ_D                  (StdPressureLev, Latitude, Longitude) float32 ...\n",
       "    SurfPres_Forecast_TqJ_A_max   (Latitude, Longitude) float32 ...\n",
       "    GPHeight_D_sdev               (StdPressureLev, Latitude, Longitude) float32 ...\n",
       "    CloudTopTemp_TqJ_D_max        (Latitude, Longitude) float32 ...\n",
       "    CoarseCloudPres_D_min         (CoarseCloudLayer, Latitude, Longitude) float32 ...\n",
       "    SurfSkinTemp_A_min            (Latitude, Longitude) float32 ...\n",
       "    FineCloudFrc_D                (FineCloudLayer, Latitude, Longitude) float32 ...\n",
       "    RelHum_D_sdev                 (H2OPressureLev, Latitude, Longitude) float32 ...\n",
       "    TotH2OVap_TqJ_D_ct            (Latitude, Longitude) float32 ...\n",
       "    O3_VMR_TqJ_D_sdev             (StdPressureLev, Latitude, Longitude) float32 ...\n",
       "    CloudTopTemp_A_sdev           (Latitude, Longitude) float32 ...\n",
       "    H2O_MMR_Surf_D_ct             (Latitude, Longitude) float32 ...\n",
       "    SurfAirTemp_TqJ_D_ct          (Latitude, Longitude) float32 ...\n",
       "    SurfPres_Forecast_D_sdev      (Latitude, Longitude) float32 ...\n",
       "    Emis_MW_D_min                 (EmisFreqMW, Latitude, Longitude) float32 ...\n",
       "    CoarseCloudTemp_TqJ_D_sdev    (CoarseCloudLayer, Latitude, Longitude) float32 ...\n",
       "    OLR_TqJ_A_sdev                (Latitude, Longitude) float32 ...\n",
       "    ClrOLR_A_min                  (Latitude, Longitude) float32 ...\n",
       "    SurfPres_Forecast_TqJ_D_min   (Latitude, Longitude) float32 ...\n",
       "    TotH2OVap_A_max               (Latitude, Longitude) float32 ...\n",
       "    TotCH4_TqJ_A_min              (Latitude, Longitude) float32 ...\n",
       "    CloudTopTemp_A_min            (Latitude, Longitude) float32 ...\n",
       "    TotCldLiqH2O_MW_A_ct          (Latitude, Longitude) float32 ...\n",
       "    FineCloudFrc_TqJ_A_max        (FineCloudLayer, Latitude, Longitude) float32 ...\n",
       "    OLR_D                         (Latitude, Longitude) float32 ...\n",
       "    CO_VMR_TqJ_A_min              (StdPressureLev, Latitude, Longitude) float32 ...\n",
       "    TotCldLiqH2O_MW_D_sdev        (Latitude, Longitude) float32 ...\n",
       "    H2O_MMR_TqJ_D_sdev            (H2OPressureLev, Latitude, Longitude) float32 ...\n",
       "    Temperature_D_ct              (StdPressureLev, Latitude, Longitude) float32 ...\n",
       "    TropPres_TqJ_D_sdev           (Latitude, Longitude) float32 ...\n",
       "    CloudFrc_A_ct                 (Latitude, Longitude) float32 ...\n",
       "    CloudTopTemp_TqJ_D_err        (Latitude, Longitude) float32 ...\n",
       "    Topography                    (Latitude, Longitude) float32 ...\n",
       "    CH4_VMR_A_ct                  (StdPressureLev, Latitude, Longitude) float32 ...\n",
       "    CloudTopPres_D_max            (Latitude, Longitude) float32 ...\n",
       "    RelHum_A_sdev                 (H2OPressureLev, Latitude, Longitude) float32 ...\n",
       "    O3_VMR_TqJ_D_ct               (StdPressureLev, Latitude, Longitude) float32 ...\n",
       "    TotH2OVap_MW_A_max            (Latitude, Longitude) float32 ...\n",
       "    O3_VMR_TqJ_A                  (StdPressureLev, Latitude, Longitude) float32 ...\n",
       "    O3_VMR_TqJ_A_sdev             (StdPressureLev, Latitude, Longitude) float32 ...\n",
       "    TotCO_A_ct                    (Latitude, Longitude) float32 ...\n",
       "    SurfAirTemp_D_err             (Latitude, Longitude) float32 ...\n",
       "    CloudTopTemp_TqJ_D_ct         (Latitude, Longitude) float32 ...\n",
       "    SurfPres_Forecast_A_sdev      (Latitude, Longitude) float32 ...\n",
       "    H2O_MMR_Lyr_A_err             (H2OPressureLay, Latitude, Longitude) float32 ...\n",
       "    CoarseCloudTemp_TqJ_A_max     (CoarseCloudLayer, Latitude, Longitude) float32 ...\n",
       "Attributes:\n",
       "    HDFEOSVersion:                     HDFEOS_V2.18\n",
       "    StructMetadata_0:                  GROUP=SwathStructureEND_GROUP=SwathStr...\n",
       "    StructMetadata_1:                  \\t\\t\\tCompressionType=HDFE_COMP_DEFLAT...\n",
       "    StructMetadata_2:                  \\tEND_OBJECT=DataField_126\\t\\t\\tOBJECT...\n",
       "    StructMetadata_3:                  TE\\t\\t\\t\\tDeflateLevel=5\\t\\t\\tEND_OBJE...\n",
       "    StructMetadata_4:                  E_COMP_DEFLATE\\t\\t\\t\\tDeflateLevel=5\\t...\n",
       "    StructMetadata_5:                  rature_MW_D_min\"\\t\\t\\t\\tDataType=DFNT_...\n",
       "    identifier_product_doi:            10.5067/AQUA/AIRS/DATA303\n",
       "    identifier_product_doi_authority:  http://dx.doi.org/\n",
       "    coremetadata:                      GROUP                  = INVENTORYMETA...\n",
       "    coremetadata_1:                    /Aqua_AIRS_Level2/AIRS2RET.006/2015/00...\n",
       "    coremetadata_2:                    ASS                = \"11\"      OBJECT ..."
      ]
     },
     "execution_count": 24,
     "metadata": {},
     "output_type": "execute_result"
    }
   ],
   "source": [
    "dataset_url = 'http://t41m1.opendap.org:8080/opendap/dmrpp_from_aws_cli/airs/AIRS.2015.01.01.L3.RetStd_IR001.v6.0.11.0.G15013155825.nc.h5.dmrpp'"
   ]
  },
  {
   "cell_type": "markdown",
   "metadata": {},
   "source": [
    "Next we open the dataset with xarray, `xr.open_dataset()`, and then show the metadata"
   ]
  },
  {
   "cell_type": "code",
   "execution_count": null,
   "metadata": {},
   "outputs": [],
   "source": [
    "remote_data = xr.open_dataset(dataset_url)\n",
    "remote_data"
   ]
  },
  {
   "cell_type": "markdown",
   "metadata": {},
   "source": [
    "Then we select a variable and read it's values:"
   ]
  },
  {
   "cell_type": "code",
   "execution_count": 21,
   "metadata": {},
   "outputs": [],
   "source": [
    "ClrOLR_A = remote_data['ClrOLR_A'][::1,::1]"
   ]
  },
  {
   "cell_type": "code",
   "execution_count": 22,
   "metadata": {},
   "outputs": [
    {
     "data": {
      "text/plain": [
       "<xarray.DataArray 'ClrOLR_A' (Latitude: 180, Longitude: 360)>\n",
       "array([[    nan,     nan, 175.625, ..., 171.875, 174.125,     nan],\n",
       "       [171.875, 174.625, 174.25 , ..., 174.875,     nan, 173.125],\n",
       "       [174.   , 175.125, 173.625, ..., 175.875, 176.   , 175.5  ],\n",
       "       ...,\n",
       "       [    nan, 198.25 ,     nan, ..., 193.   , 194.25 , 196.75 ],\n",
       "       [    nan, 189.125, 192.   , ..., 189.25 , 189.625,     nan],\n",
       "       [190.875,     nan, 189.75 , ...,     nan, 187.5  ,     nan]],\n",
       "      dtype=float32)\n",
       "Coordinates:\n",
       "  * Latitude   (Latitude) float64 89.5 88.5 87.5 86.5 ... -87.5 -88.5 -89.5\n",
       "  * Longitude  (Longitude) float64 -179.5 -178.5 -177.5 ... 177.5 178.5 179.5\n",
       "Attributes:\n",
       "    origname:      ClrOLR_A\n",
       "    fullnamepath:  /ClrOLR_A"
      ]
     },
     "execution_count": 22,
     "metadata": {},
     "output_type": "execute_result"
    }
   ],
   "source": [
    "ClrOLR_A"
   ]
  },
  {
   "cell_type": "markdown",
   "metadata": {},
   "source": [
    "And finally plot the selected variable."
   ]
  },
  {
   "cell_type": "code",
   "execution_count": 23,
   "metadata": {
    "scrolled": true
   },
   "outputs": [
    {
     "data": {
      "text/plain": [
       "<matplotlib.collections.QuadMesh at 0x32346e860>"
      ]
     },
     "execution_count": 23,
     "metadata": {},
     "output_type": "execute_result"
    },
    {
     "data": {
      "image/png": "[encoded data removed]",
      "text/plain": [
       "<Figure size 432x288 with 2 Axes>"
      ]
     },
     "metadata": {
      "needs_background": "light"
     },
     "output_type": "display_data"
    }
   ],
   "source": [
    "ClrOLR_A.plot()"
   ]
  }
 ],
 "metadata": {
  "kernelspec": {
   "display_name": "Python 3",
   "language": "python",
   "name": "python3"
  },
  "language_info": {
   "codemirror_mode": {
    "name": "ipython",
    "version": 3
   },
   "file_extension": ".py",
   "mimetype": "text/x-python",
   "name": "python",
   "nbconvert_exporter": "python",
   "pygments_lexer": "ipython3",
   "version": "3.7.3"
  },
  "widgets": {
   "application/vnd.jupyter.widget-state+json": {
    "state": {
     "01fcfe3453574be4ac3d37e28425d0b0": {
      "model_module": "@jupyter-widgets/controls",
      "model_module_version": "1.2.0",
      "model_name": "HBoxModel",
      "state": {
       "children": [
        "IPY_MODEL_fad4f62c9399419993153fb961830488",
        "IPY_MODEL_bdfc56e2940c4c739ff1d5faeec40d7f",
        "IPY_MODEL_14478fbdfc0a4fa9a41fb87209cfb76b"
       ],
       "layout": "IPY_MODEL_dc161608c8bc4a019de49bad6cc0cb2f"
      }
     },
     "061e3b19ad0944bb98c6b44bd10a989c": {
      "model_module": "@jupyter-widgets/controls",
      "model_module_version": "1.2.0",
      "model_name": "DescriptionStyleModel",
      "state": {
       "description_width": ""
      }
     },
     "07d213ec9c774483937f447bf3dd86ae": {
      "model_module": "@jupyter-widgets/controls",
      "model_module_version": "1.2.0",
      "model_name": "FloatProgressModel",
      "state": {
       "bar_style": "success",
       "layout": "IPY_MODEL_f860565f03c9460a9fcd197828d4a043",
       "max": 1,
       "style": "IPY_MODEL_86cda597474343f990730a66d71dce98",
       "value": 1
      }
     },
     "13c18d134d3e495b9dff310d81b0c2cc": {
      "model_module": "@jupyter-widgets/controls",
      "model_module_version": "1.2.0",
      "model_name": "HBoxModel",
      "state": {
       "children": [
        "IPY_MODEL_fbf901b76b014589bcd19fb800b66b6a",
        "IPY_MODEL_5b148f98c7da47678f5e38de89b5c215",
        "IPY_MODEL_e667ec2530bb4d9bb801700b164a1ccf"
       ],
       "layout": "IPY_MODEL_6d01a84902be460aa27a72b0da24383a"
      }
     },
     "14478fbdfc0a4fa9a41fb87209cfb76b": {
      "model_module": "@jupyter-widgets/controls",
      "model_module_version": "1.2.0",
      "model_name": "HTMLModel",
      "state": {
       "layout": "IPY_MODEL_6b3abb3e1d9f4a9685960ac30e86037b",
       "style": "IPY_MODEL_4f1f297a1c524a489d284d1f5ebf9f18",
       "value": "<div style=\"padding: 0px 10px 0px 10px; text-align:left; word-wrap: break-word;\">nanmax</div>"
      }
     },
     "14511e290cdf43bab1a81c656bf0aefc": {
      "model_module": "@jupyter-widgets/base",
      "model_module_version": "1.0.0",
      "model_name": "LayoutModel",
      "state": {}
     },
     "14fdab47ae8c404c9731a2d015bf7fee": {
      "model_module": "@jupyter-widgets/controls",
      "model_module_version": "1.2.0",
      "model_name": "HBoxModel",
      "state": {
       "children": [
        "IPY_MODEL_c15eb2b3ca8847d9b1af872e019583f4",
        "IPY_MODEL_cf0a449cea2046f6a33ca2007eee69de",
        "IPY_MODEL_55e8e8ae71f041d1a3eaa0cf6b848642"
       ],
       "layout": "IPY_MODEL_8c6015c3d7604e698318912f87530bab"
      }
     },
     "16786dadcea8412195bede48e8d110d4": {
      "model_module": "@jupyter-widgets/controls",
      "model_module_version": "1.2.0",
      "model_name": "HTMLModel",
      "state": {
       "layout": "IPY_MODEL_14511e290cdf43bab1a81c656bf0aefc",
       "style": "IPY_MODEL_77694b68b009421b95468e726e6c00fc",
       "value": "<div style=\"padding: 0px 10px 0px 10px; text-align:left; word-wrap: break-word;\">nanmax-aggregate</div>"
      }
     },
     "17a6ed6ba13647c390a2823596970f1d": {
      "model_module": "@jupyter-widgets/controls",
      "model_module_version": "1.2.0",
      "model_name": "ProgressStyleModel",
      "state": {
       "description_width": ""
      }
     },
     "198337771f7144b2b69c255c49ed3e2a": {
      "model_module": "@jupyter-widgets/base",
      "model_module_version": "1.0.0",
      "model_name": "LayoutModel",
      "state": {}
     },
     "1c8a8108a8074d60bcca05d85424d9ec": {
      "model_module": "@jupyter-widgets/base",
      "model_module_version": "1.0.0",
      "model_name": "LayoutModel",
      "state": {}
     },
     "1d7ed0d13a054956865a9a3b14b70af0": {
      "model_module": "@jupyter-widgets/base",
      "model_module_version": "1.0.0",
      "model_name": "LayoutModel",
      "state": {}
     },
     "20a8bb4121724332a556e3906aa1bbd7": {
      "model_module": "@jupyter-widgets/controls",
      "model_module_version": "1.2.0",
      "model_name": "DescriptionStyleModel",
      "state": {
       "description_width": ""
      }
     },
     "2334dd91646348518ceb0c8e50675c19": {
      "model_module": "@jupyter-widgets/controls",
      "model_module_version": "1.2.0",
      "model_name": "DescriptionStyleModel",
      "state": {
       "description_width": ""
      }
     },
     "2587b46f1029494593df370baf3af340": {
      "model_module": "@jupyter-widgets/controls",
      "model_module_version": "1.2.0",
      "model_name": "FloatProgressModel",
      "state": {
       "bar_style": "success",
       "layout": "IPY_MODEL_1d7ed0d13a054956865a9a3b14b70af0",
       "max": 1,
       "style": "IPY_MODEL_258ed3d3f27549d7818005f6b52449c2",
       "value": 1
      }
     },
     "258ed3d3f27549d7818005f6b52449c2": {
      "model_module": "@jupyter-widgets/controls",
      "model_module_version": "1.2.0",
      "model_name": "ProgressStyleModel",
      "state": {
       "description_width": ""
      }
     },
     "25a84c261f0b452caf25a81a088ba369": {
      "model_module": "@jupyter-widgets/controls",
      "model_module_version": "1.2.0",
      "model_name": "ProgressStyleModel",
      "state": {
       "description_width": ""
      }
     },
     "290d0f4b92f4483ca42ece3d69c9a8df": {
      "model_module": "@jupyter-widgets/base",
      "model_module_version": "1.0.0",
      "model_name": "LayoutModel",
      "state": {}
     },
     "2afdd253f91d4f2699d8e8304c08d6cd": {
      "model_module": "@jupyter-widgets/controls",
      "model_module_version": "1.2.0",
      "model_name": "VBoxModel",
      "state": {
       "children": [
        "IPY_MODEL_51815c4353524c2a8b8beaac913c84b4",
        "IPY_MODEL_01fcfe3453574be4ac3d37e28425d0b0",
        "IPY_MODEL_eb8414bf255d4b11b91ff378ca44a033",
        "IPY_MODEL_13c18d134d3e495b9dff310d81b0c2cc"
       ],
       "layout": "IPY_MODEL_ed98307e48a348e2a2c20060a8c47bce"
      }
     },
     "31c7164fc63141378888246dd152f9c3": {
      "model_module": "@jupyter-widgets/controls",
      "model_module_version": "1.2.0",
      "model_name": "DescriptionStyleModel",
      "state": {
       "description_width": ""
      }
     },
     "3209b8b55e3846b39813c89bfddfb56e": {
      "model_module": "@jupyter-widgets/controls",
      "model_module_version": "1.2.0",
      "model_name": "FloatProgressModel",
      "state": {
       "bar_style": "success",
       "layout": "IPY_MODEL_cff9c375be0b4606bea265e723183c9b",
       "max": 1,
       "style": "IPY_MODEL_b8752a39541c4eeaacd65b784c68a5be",
       "value": 1
      }
     },
     "399d01417a014376ba1e5cc4d57f4879": {
      "model_module": "@jupyter-widgets/controls",
      "model_module_version": "1.2.0",
      "model_name": "DescriptionStyleModel",
      "state": {
       "description_width": ""
      }
     },
     "39ff4c94852c4928a3ba4083eaf69303": {
      "model_module": "@jupyter-widgets/controls",
      "model_module_version": "1.2.0",
      "model_name": "DescriptionStyleModel",
      "state": {
       "description_width": ""
      }
     },
     "41b97a4ad5354fa09f20dd171d9efce8": {
      "model_module": "@jupyter-widgets/controls",
      "model_module_version": "1.2.0",
      "model_name": "DescriptionStyleModel",
      "state": {
       "description_width": ""
      }
     },
     "42b6cf7263374878ad008f88edbf7b90": {
      "model_module": "@jupyter-widgets/controls",
      "model_module_version": "1.2.0",
      "model_name": "HTMLModel",
      "state": {
       "layout": "IPY_MODEL_6196503fed59480ea4f3c2e81cf698ff",
       "style": "IPY_MODEL_39ff4c94852c4928a3ba4083eaf69303",
       "value": "<div style=\"padding: 0px 10px 0px 10px; text-align:left; word-wrap: break-word;\">zarr</div>"
      }
     },
     "45f4c5c9c98f449f9d089fc349e27214": {
      "model_module": "@jupyter-widgets/controls",
      "model_module_version": "1.2.0",
      "model_name": "ProgressStyleModel",
      "state": {
       "description_width": ""
      }
     },
     "46244b84c4fa410b957ba71e0a34cb8a": {
      "model_module": "@jupyter-widgets/base",
      "model_module_version": "1.0.0",
      "model_name": "LayoutModel",
      "state": {}
     },
     "4782533256cc42c3903e6a67f568e977": {
      "model_module": "@jupyter-widgets/controls",
      "model_module_version": "1.2.0",
      "model_name": "HTMLModel",
      "state": {
       "layout": "IPY_MODEL_a3167a15ebd3451689ac0968c255ebae",
       "style": "IPY_MODEL_399d01417a014376ba1e5cc4d57f4879",
       "value": "<div style=\"padding: 0px 10px 0px 10px; text-align:left; word-wrap: break-word;\">zarr</div>"
      }
     },
     "4e4e7214733243c2a46c79973b81ae70": {
      "model_module": "@jupyter-widgets/controls",
      "model_module_version": "1.2.0",
      "model_name": "DescriptionStyleModel",
      "state": {
       "description_width": ""
      }
     },
     "4f1f297a1c524a489d284d1f5ebf9f18": {
      "model_module": "@jupyter-widgets/controls",
      "model_module_version": "1.2.0",
      "model_name": "DescriptionStyleModel",
      "state": {
       "description_width": ""
      }
     },
     "4f69a4c8c1984c66ae14dfd9e7d65601": {
      "model_module": "@jupyter-widgets/base",
      "model_module_version": "1.0.0",
      "model_name": "LayoutModel",
      "state": {}
     },
     "513117387e1d45d7ba718f8b54f5f845": {
      "model_module": "@jupyter-widgets/base",
      "model_module_version": "1.0.0",
      "model_name": "LayoutModel",
      "state": {}
     },
     "51815c4353524c2a8b8beaac913c84b4": {
      "model_module": "@jupyter-widgets/controls",
      "model_module_version": "1.2.0",
      "model_name": "HBoxModel",
      "state": {
       "children": [
        "IPY_MODEL_f5c4287c7e224928a83cb404f12bcf2e",
        "IPY_MODEL_3209b8b55e3846b39813c89bfddfb56e",
        "IPY_MODEL_42b6cf7263374878ad008f88edbf7b90"
       ],
       "layout": "IPY_MODEL_970ee1718f7a4435a323fc7b02b0a8b2"
      }
     },
     "520689ee6b1a4768abb41e6a40bfb9d1": {
      "model_module": "@jupyter-widgets/controls",
      "model_module_version": "1.2.0",
      "model_name": "ProgressStyleModel",
      "state": {
       "description_width": ""
      }
     },
     "5257e06ca43a46a888ad0b8713526b59": {
      "model_module": "@jupyter-widgets/base",
      "model_module_version": "1.0.0",
      "model_name": "LayoutModel",
      "state": {}
     },
     "55e8e8ae71f041d1a3eaa0cf6b848642": {
      "model_module": "@jupyter-widgets/controls",
      "model_module_version": "1.2.0",
      "model_name": "HTMLModel",
      "state": {
       "layout": "IPY_MODEL_ae2e9fdc14e24ca6b3162bf14d239de2",
       "style": "IPY_MODEL_061e3b19ad0944bb98c6b44bd10a989c",
       "value": "<div style=\"padding: 0px 10px 0px 10px; text-align:left; word-wrap: break-word;\">nanmax</div>"
      }
     },
     "5a946da01d0546e0b64e1b4b662c32e4": {
      "model_module": "@jupyter-widgets/base",
      "model_module_version": "1.0.0",
      "model_name": "LayoutModel",
      "state": {}
     },
     "5ab52130ef9c43a4bf0d252df0230efd": {
      "model_module": "@jupyter-widgets/base",
      "model_module_version": "1.0.0",
      "model_name": "LayoutModel",
      "state": {}
     },
     "5b148f98c7da47678f5e38de89b5c215": {
      "model_module": "@jupyter-widgets/controls",
      "model_module_version": "1.2.0",
      "model_name": "FloatProgressModel",
      "state": {
       "bar_style": "success",
       "layout": "IPY_MODEL_6ac5bb449ff240958a595f2945a0116f",
       "max": 1,
       "style": "IPY_MODEL_9c95f8d4855e4dca878a079683fff1bf",
       "value": 1
      }
     },
     "5b6ec018f5b4431bb72b74396104d5db": {
      "model_module": "@jupyter-widgets/controls",
      "model_module_version": "1.2.0",
      "model_name": "VBoxModel",
      "state": {
       "children": [
        "IPY_MODEL_7bacbb75886541f6b9082472f3befaf7",
        "IPY_MODEL_14fdab47ae8c404c9731a2d015bf7fee",
        "IPY_MODEL_bfbe2870f81246989cd15cbeb5ccde92",
        "IPY_MODEL_965208081fe14ed69f620152806251b1"
       ],
       "layout": "IPY_MODEL_940eb1f376b44d81b88e7dad912a4c9e"
      }
     },
     "6188678c53014cd3a42c101284e15f2b": {
      "model_module": "@jupyter-widgets/base",
      "model_module_version": "1.0.0",
      "model_name": "LayoutModel",
      "state": {}
     },
     "6196503fed59480ea4f3c2e81cf698ff": {
      "model_module": "@jupyter-widgets/base",
      "model_module_version": "1.0.0",
      "model_name": "LayoutModel",
      "state": {}
     },
     "67b50bf2dfa243be9259fb2bd3630bd1": {
      "model_module": "@jupyter-widgets/controls",
      "model_module_version": "1.2.0",
      "model_name": "VBoxModel",
      "state": {
       "children": [
        "IPY_MODEL_c9a88b5601ea479e9d44183b90815b73",
        "IPY_MODEL_5b6ec018f5b4431bb72b74396104d5db"
       ],
       "layout": "IPY_MODEL_d299dfb8bbf24365a17821105565dd02"
      }
     },
     "6ac5bb449ff240958a595f2945a0116f": {
      "model_module": "@jupyter-widgets/base",
      "model_module_version": "1.0.0",
      "model_name": "LayoutModel",
      "state": {}
     },
     "6b3abb3e1d9f4a9685960ac30e86037b": {
      "model_module": "@jupyter-widgets/base",
      "model_module_version": "1.0.0",
      "model_name": "LayoutModel",
      "state": {}
     },
     "6d01a84902be460aa27a72b0da24383a": {
      "model_module": "@jupyter-widgets/base",
      "model_module_version": "1.0.0",
      "model_name": "LayoutModel",
      "state": {}
     },
     "73489cc81b674c099c183542cc4cde8d": {
      "model_module": "@jupyter-widgets/controls",
      "model_module_version": "1.2.0",
      "model_name": "HTMLModel",
      "state": {
       "layout": "IPY_MODEL_5ab52130ef9c43a4bf0d252df0230efd",
       "style": "IPY_MODEL_b6ed13ff28a0480395a3c26634e91cac",
       "value": "<div style=\"padding: 0px 10px 0px 10px; text-align: right\">1560 / 1560</div>"
      }
     },
     "77694b68b009421b95468e726e6c00fc": {
      "model_module": "@jupyter-widgets/controls",
      "model_module_version": "1.2.0",
      "model_name": "DescriptionStyleModel",
      "state": {
       "description_width": ""
      }
     },
     "7a25ff623e6948bcb52a76c4a375645b": {
      "model_module": "@jupyter-widgets/base",
      "model_module_version": "1.0.0",
      "model_name": "LayoutModel",
      "state": {}
     },
     "7bacbb75886541f6b9082472f3befaf7": {
      "model_module": "@jupyter-widgets/controls",
      "model_module_version": "1.2.0",
      "model_name": "HBoxModel",
      "state": {
       "children": [
        "IPY_MODEL_d00f87cb80eb462aa6bd5190ccaf3cda",
        "IPY_MODEL_8af817497b5a4025835a6be94e5e4dbe",
        "IPY_MODEL_4782533256cc42c3903e6a67f568e977"
       ],
       "layout": "IPY_MODEL_e6479441b83340aea9a4a5db29af0aaf"
      }
     },
     "7c7705497a2a444bb0ab147da79f9922": {
      "model_module": "@jupyter-widgets/controls",
      "model_module_version": "1.2.0",
      "model_name": "DescriptionStyleModel",
      "state": {
       "description_width": ""
      }
     },
     "7ff152f5dd634bbfbc4a7c37a728f29d": {
      "model_module": "@jupyter-widgets/controls",
      "model_module_version": "1.2.0",
      "model_name": "DescriptionStyleModel",
      "state": {
       "description_width": ""
      }
     },
     "82067ceccd114f81b85d6b78848fa45a": {
      "model_module": "@jupyter-widgets/base",
      "model_module_version": "1.0.0",
      "model_name": "LayoutModel",
      "state": {}
     },
     "83268aac72194c14a848e95024d2135c": {
      "model_module": "@jupyter-widgets/base",
      "model_module_version": "1.0.0",
      "model_name": "LayoutModel",
      "state": {}
     },
     "86cda597474343f990730a66d71dce98": {
      "model_module": "@jupyter-widgets/controls",
      "model_module_version": "1.2.0",
      "model_name": "ProgressStyleModel",
      "state": {
       "description_width": ""
      }
     },
     "8aacd84cd3d643049afa436d7e907654": {
      "model_module": "@jupyter-widgets/base",
      "model_module_version": "1.0.0",
      "model_name": "LayoutModel",
      "state": {}
     },
     "8af817497b5a4025835a6be94e5e4dbe": {
      "model_module": "@jupyter-widgets/controls",
      "model_module_version": "1.2.0",
      "model_name": "FloatProgressModel",
      "state": {
       "bar_style": "success",
       "layout": "IPY_MODEL_f450a4fb334a4e31a7957f6ef935d62a",
       "max": 1,
       "style": "IPY_MODEL_45f4c5c9c98f449f9d089fc349e27214",
       "value": 1
      }
     },
     "8c6015c3d7604e698318912f87530bab": {
      "model_module": "@jupyter-widgets/base",
      "model_module_version": "1.0.0",
      "model_name": "LayoutModel",
      "state": {}
     },
     "940eb1f376b44d81b88e7dad912a4c9e": {
      "model_module": "@jupyter-widgets/base",
      "model_module_version": "1.0.0",
      "model_name": "LayoutModel",
      "state": {}
     },
     "950787a0bc8e4a22a5da0e30d808d266": {
      "model_module": "@jupyter-widgets/controls",
      "model_module_version": "1.2.0",
      "model_name": "HTMLModel",
      "state": {
       "layout": "IPY_MODEL_6188678c53014cd3a42c101284e15f2b",
       "style": "IPY_MODEL_41b97a4ad5354fa09f20dd171d9efce8",
       "value": "<div style=\"padding: 0px 10px 5px 10px\"><b>Finished:</b> 37.0s</div>"
      }
     },
     "965208081fe14ed69f620152806251b1": {
      "model_module": "@jupyter-widgets/controls",
      "model_module_version": "1.2.0",
      "model_name": "HBoxModel",
      "state": {
       "children": [
        "IPY_MODEL_f1f974bd02ca485da5f00855978d99ca",
        "IPY_MODEL_2587b46f1029494593df370baf3af340",
        "IPY_MODEL_16786dadcea8412195bede48e8d110d4"
       ],
       "layout": "IPY_MODEL_82067ceccd114f81b85d6b78848fa45a"
      }
     },
     "970ee1718f7a4435a323fc7b02b0a8b2": {
      "model_module": "@jupyter-widgets/base",
      "model_module_version": "1.0.0",
      "model_name": "LayoutModel",
      "state": {}
     },
     "9c95f8d4855e4dca878a079683fff1bf": {
      "model_module": "@jupyter-widgets/controls",
      "model_module_version": "1.2.0",
      "model_name": "ProgressStyleModel",
      "state": {
       "description_width": ""
      }
     },
     "a3167a15ebd3451689ac0968c255ebae": {
      "model_module": "@jupyter-widgets/base",
      "model_module_version": "1.0.0",
      "model_name": "LayoutModel",
      "state": {}
     },
     "a33c1d9bf47741e6877f6a09923ed845": {
      "model_module": "@jupyter-widgets/controls",
      "model_module_version": "1.2.0",
      "model_name": "HTMLModel",
      "state": {
       "layout": "IPY_MODEL_f2942b13497a4940b9ae59f9573dd8de",
       "style": "IPY_MODEL_4e4e7214733243c2a46c79973b81ae70",
       "value": "<div style=\"padding: 0px 10px 0px 10px; text-align:left; word-wrap: break-word;\">nanmax-partial</div>"
      }
     },
     "a74db149a62140d8bdd0b3ffa3d6b9de": {
      "model_module": "@jupyter-widgets/controls",
      "model_module_version": "1.2.0",
      "model_name": "DescriptionStyleModel",
      "state": {
       "description_width": ""
      }
     },
     "ae2e9fdc14e24ca6b3162bf14d239de2": {
      "model_module": "@jupyter-widgets/base",
      "model_module_version": "1.0.0",
      "model_name": "LayoutModel",
      "state": {}
     },
     "afc1315077c04916bee32e2c2646d5d4": {
      "model_module": "@jupyter-widgets/controls",
      "model_module_version": "1.2.0",
      "model_name": "FloatProgressModel",
      "state": {
       "bar_style": "success",
       "layout": "IPY_MODEL_b327237ab472404e9b3677ddd0c4325d",
       "max": 1,
       "style": "IPY_MODEL_520689ee6b1a4768abb41e6a40bfb9d1",
       "value": 1
      }
     },
     "b30634abf2ee46ca88176a7578b31da7": {
      "model_module": "@jupyter-widgets/controls",
      "model_module_version": "1.2.0",
      "model_name": "VBoxModel",
      "state": {
       "children": [
        "IPY_MODEL_950787a0bc8e4a22a5da0e30d808d266",
        "IPY_MODEL_2afdd253f91d4f2699d8e8304c08d6cd"
       ],
       "layout": "IPY_MODEL_d6f2c5ec10a2435d97381cc22f8cb963"
      }
     },
     "b327237ab472404e9b3677ddd0c4325d": {
      "model_module": "@jupyter-widgets/base",
      "model_module_version": "1.0.0",
      "model_name": "LayoutModel",
      "state": {}
     },
     "b6ed13ff28a0480395a3c26634e91cac": {
      "model_module": "@jupyter-widgets/controls",
      "model_module_version": "1.2.0",
      "model_name": "DescriptionStyleModel",
      "state": {
       "description_width": ""
      }
     },
     "b750608fdd904e73848947e0aa0bae1e": {
      "model_module": "@jupyter-widgets/controls",
      "model_module_version": "1.2.0",
      "model_name": "HTMLModel",
      "state": {
       "layout": "IPY_MODEL_8aacd84cd3d643049afa436d7e907654",
       "style": "IPY_MODEL_7ff152f5dd634bbfbc4a7c37a728f29d",
       "value": "<div style=\"padding: 0px 10px 0px 10px; text-align: right\">1560 / 1560</div>"
      }
     },
     "b8752a39541c4eeaacd65b784c68a5be": {
      "model_module": "@jupyter-widgets/controls",
      "model_module_version": "1.2.0",
      "model_name": "ProgressStyleModel",
      "state": {
       "description_width": ""
      }
     },
     "bdfc56e2940c4c739ff1d5faeec40d7f": {
      "model_module": "@jupyter-widgets/controls",
      "model_module_version": "1.2.0",
      "model_name": "FloatProgressModel",
      "state": {
       "bar_style": "success",
       "layout": "IPY_MODEL_1c8a8108a8074d60bcca05d85424d9ec",
       "max": 1,
       "style": "IPY_MODEL_17a6ed6ba13647c390a2823596970f1d",
       "value": 1
      }
     },
     "bfbe2870f81246989cd15cbeb5ccde92": {
      "model_module": "@jupyter-widgets/controls",
      "model_module_version": "1.2.0",
      "model_name": "HBoxModel",
      "state": {
       "children": [
        "IPY_MODEL_73489cc81b674c099c183542cc4cde8d",
        "IPY_MODEL_07d213ec9c774483937f447bf3dd86ae",
        "IPY_MODEL_cfd949b4e0154e3f8ec5025d34503dd7"
       ],
       "layout": "IPY_MODEL_290d0f4b92f4483ca42ece3d69c9a8df"
      }
     },
     "c15eb2b3ca8847d9b1af872e019583f4": {
      "model_module": "@jupyter-widgets/controls",
      "model_module_version": "1.2.0",
      "model_name": "HTMLModel",
      "state": {
       "layout": "IPY_MODEL_7a25ff623e6948bcb52a76c4a375645b",
       "style": "IPY_MODEL_ff7b8038de9740508084b810f37d68bc",
       "value": "<div style=\"padding: 0px 10px 0px 10px; text-align: right\">4680 / 4680</div>"
      }
     },
     "c9a88b5601ea479e9d44183b90815b73": {
      "model_module": "@jupyter-widgets/controls",
      "model_module_version": "1.2.0",
      "model_name": "HTMLModel",
      "state": {
       "layout": "IPY_MODEL_f30283674ce845f2bc15fe4f8705fc37",
       "style": "IPY_MODEL_20a8bb4121724332a556e3906aa1bbd7",
       "value": "<div style=\"padding: 0px 10px 5px 10px\"><b>Finished:</b>  1min 29.5s</div>"
      }
     },
     "ca87311e69644740b5fbb4c1d76086d0": {
      "model_module": "@jupyter-widgets/base",
      "model_module_version": "1.0.0",
      "model_name": "LayoutModel",
      "state": {}
     },
     "cf0a449cea2046f6a33ca2007eee69de": {
      "model_module": "@jupyter-widgets/controls",
      "model_module_version": "1.2.0",
      "model_name": "FloatProgressModel",
      "state": {
       "bar_style": "success",
       "layout": "IPY_MODEL_5a946da01d0546e0b64e1b4b662c32e4",
       "max": 1,
       "style": "IPY_MODEL_25a84c261f0b452caf25a81a088ba369",
       "value": 1
      }
     },
     "cfd949b4e0154e3f8ec5025d34503dd7": {
      "model_module": "@jupyter-widgets/controls",
      "model_module_version": "1.2.0",
      "model_name": "HTMLModel",
      "state": {
       "layout": "IPY_MODEL_5257e06ca43a46a888ad0b8713526b59",
       "style": "IPY_MODEL_2334dd91646348518ceb0c8e50675c19",
       "value": "<div style=\"padding: 0px 10px 0px 10px; text-align:left; word-wrap: break-word;\">nanmax-partial</div>"
      }
     },
     "cff9c375be0b4606bea265e723183c9b": {
      "model_module": "@jupyter-widgets/base",
      "model_module_version": "1.0.0",
      "model_name": "LayoutModel",
      "state": {}
     },
     "d00f87cb80eb462aa6bd5190ccaf3cda": {
      "model_module": "@jupyter-widgets/controls",
      "model_module_version": "1.2.0",
      "model_name": "HTMLModel",
      "state": {
       "layout": "IPY_MODEL_198337771f7144b2b69c255c49ed3e2a",
       "style": "IPY_MODEL_7c7705497a2a444bb0ab147da79f9922",
       "value": "<div style=\"padding: 0px 10px 0px 10px; text-align: right\">4813 / 4813</div>"
      }
     },
     "d299dfb8bbf24365a17821105565dd02": {
      "model_module": "@jupyter-widgets/base",
      "model_module_version": "1.0.0",
      "model_name": "LayoutModel",
      "state": {}
     },
     "d37fb3ecbbb14555b020111b7fb1d6e4": {
      "model_module": "@jupyter-widgets/base",
      "model_module_version": "1.0.0",
      "model_name": "LayoutModel",
      "state": {}
     },
     "d665407811f84d80b15ee4c12148fca0": {
      "model_module": "@jupyter-widgets/controls",
      "model_module_version": "1.2.0",
      "model_name": "DescriptionStyleModel",
      "state": {
       "description_width": ""
      }
     },
     "d6f2c5ec10a2435d97381cc22f8cb963": {
      "model_module": "@jupyter-widgets/base",
      "model_module_version": "1.0.0",
      "model_name": "LayoutModel",
      "state": {}
     },
     "d9962513f16d417d8138e25ab85da0b2": {
      "model_module": "@jupyter-widgets/controls",
      "model_module_version": "1.2.0",
      "model_name": "DescriptionStyleModel",
      "state": {
       "description_width": ""
      }
     },
     "dc161608c8bc4a019de49bad6cc0cb2f": {
      "model_module": "@jupyter-widgets/base",
      "model_module_version": "1.0.0",
      "model_name": "LayoutModel",
      "state": {}
     },
     "df5fe18cd57141db86d43128f4375603": {
      "model_module": "@jupyter-widgets/controls",
      "model_module_version": "1.2.0",
      "model_name": "DescriptionStyleModel",
      "state": {
       "description_width": ""
      }
     },
     "e6479441b83340aea9a4a5db29af0aaf": {
      "model_module": "@jupyter-widgets/base",
      "model_module_version": "1.0.0",
      "model_name": "LayoutModel",
      "state": {}
     },
     "e667ec2530bb4d9bb801700b164a1ccf": {
      "model_module": "@jupyter-widgets/controls",
      "model_module_version": "1.2.0",
      "model_name": "HTMLModel",
      "state": {
       "layout": "IPY_MODEL_513117387e1d45d7ba718f8b54f5f845",
       "style": "IPY_MODEL_d665407811f84d80b15ee4c12148fca0",
       "value": "<div style=\"padding: 0px 10px 0px 10px; text-align:left; word-wrap: break-word;\">nanmax-aggregate</div>"
      }
     },
     "eb8414bf255d4b11b91ff378ca44a033": {
      "model_module": "@jupyter-widgets/controls",
      "model_module_version": "1.2.0",
      "model_name": "HBoxModel",
      "state": {
       "children": [
        "IPY_MODEL_b750608fdd904e73848947e0aa0bae1e",
        "IPY_MODEL_afc1315077c04916bee32e2c2646d5d4",
        "IPY_MODEL_a33c1d9bf47741e6877f6a09923ed845"
       ],
       "layout": "IPY_MODEL_ca87311e69644740b5fbb4c1d76086d0"
      }
     },
     "ed98307e48a348e2a2c20060a8c47bce": {
      "model_module": "@jupyter-widgets/base",
      "model_module_version": "1.0.0",
      "model_name": "LayoutModel",
      "state": {}
     },
     "f1f974bd02ca485da5f00855978d99ca": {
      "model_module": "@jupyter-widgets/controls",
      "model_module_version": "1.2.0",
      "model_name": "HTMLModel",
      "state": {
       "layout": "IPY_MODEL_83268aac72194c14a848e95024d2135c",
       "style": "IPY_MODEL_d9962513f16d417d8138e25ab85da0b2",
       "value": "<div style=\"padding: 0px 10px 0px 10px; text-align: right\">65 / 65</div>"
      }
     },
     "f2942b13497a4940b9ae59f9573dd8de": {
      "model_module": "@jupyter-widgets/base",
      "model_module_version": "1.0.0",
      "model_name": "LayoutModel",
      "state": {}
     },
     "f30283674ce845f2bc15fe4f8705fc37": {
      "model_module": "@jupyter-widgets/base",
      "model_module_version": "1.0.0",
      "model_name": "LayoutModel",
      "state": {}
     },
     "f450a4fb334a4e31a7957f6ef935d62a": {
      "model_module": "@jupyter-widgets/base",
      "model_module_version": "1.0.0",
      "model_name": "LayoutModel",
      "state": {}
     },
     "f5c4287c7e224928a83cb404f12bcf2e": {
      "model_module": "@jupyter-widgets/controls",
      "model_module_version": "1.2.0",
      "model_name": "HTMLModel",
      "state": {
       "layout": "IPY_MODEL_46244b84c4fa410b957ba71e0a34cb8a",
       "style": "IPY_MODEL_31c7164fc63141378888246dd152f9c3",
       "value": "<div style=\"padding: 0px 10px 0px 10px; text-align: right\">4813 / 4813</div>"
      }
     },
     "f860565f03c9460a9fcd197828d4a043": {
      "model_module": "@jupyter-widgets/base",
      "model_module_version": "1.0.0",
      "model_name": "LayoutModel",
      "state": {}
     },
     "fad4f62c9399419993153fb961830488": {
      "model_module": "@jupyter-widgets/controls",
      "model_module_version": "1.2.0",
      "model_name": "HTMLModel",
      "state": {
       "layout": "IPY_MODEL_d37fb3ecbbb14555b020111b7fb1d6e4",
       "style": "IPY_MODEL_df5fe18cd57141db86d43128f4375603",
       "value": "<div style=\"padding: 0px 10px 0px 10px; text-align: right\">4680 / 4680</div>"
      }
     },
     "fbf901b76b014589bcd19fb800b66b6a": {
      "model_module": "@jupyter-widgets/controls",
      "model_module_version": "1.2.0",
      "model_name": "HTMLModel",
      "state": {
       "layout": "IPY_MODEL_4f69a4c8c1984c66ae14dfd9e7d65601",
       "style": "IPY_MODEL_a74db149a62140d8bdd0b3ffa3d6b9de",
       "value": "<div style=\"padding: 0px 10px 0px 10px; text-align: right\">65 / 65</div>"
      }
     },
     "ff7b8038de9740508084b810f37d68bc": {
      "model_module": "@jupyter-widgets/controls",
      "model_module_version": "1.2.0",
      "model_name": "DescriptionStyleModel",
      "state": {
       "description_width": ""
      }
     }
    },
    "version_major": 2,
    "version_minor": 0
   }
  }
 },
 "nbformat": 4,
 "nbformat_minor": 2
}
