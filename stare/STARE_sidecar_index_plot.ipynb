{
 "cells": [
  {
   "cell_type": "markdown",
   "metadata": {},
   "source": [
    "Read and plot STARE indices from a 'sidecar' file. Show the difference between level 27 with the maximum resolution and indices where the resolution has been set using the geographic point spacing."
   ]
  },
  {
   "cell_type": "code",
   "execution_count": 1,
   "metadata": {},
   "outputs": [],
   "source": [
    "import h5py\n",
    "import pystare as ps\n",
    "import numpy\n",
    "\n",
    "import matplotlib as mpl\n",
    "import matplotlib.pyplot as plt\n",
    "import matplotlib.tri as tri\n",
    "\n",
    "import cartopy\n",
    "import cartopy.crs as ccrs"
   ]
  },
  {
   "cell_type": "markdown",
   "metadata": {},
   "source": [
    "Some helper functions for plotting & printing."
   ]
  },
  {
   "cell_type": "code",
   "execution_count": 2,
   "metadata": {},
   "outputs": [],
   "source": [
    "def add_coastlines(figax, set_global=False):\n",
    "    ax = figax[1]\n",
    "    if set_global:\n",
    "        ax.set_global()\n",
    "    # ax.set_global()\n",
    "    ax.coastlines()\n",
    "    return figax\n",
    "\n",
    "def hello_plot(\n",
    "        spatial_index_values=None\n",
    "        ,figax=None\n",
    "        ,plot_options={'projection':ccrs.PlateCarree(),'transform':ccrs.Geodetic()}\n",
    "        ,show=True\n",
    "        ):\n",
    "\n",
    "    if figax is None:\n",
    "        fig,ax = plt.subplots(1,subplot_kw=plot_options)\n",
    "        ax.set_global()\n",
    "        ax.coastlines()\n",
    "        figax = [fig,ax]\n",
    "    else:\n",
    "        ax = figax[1]\n",
    "    \n",
    "    if spatial_index_values is not None:\n",
    "        lons,lats,intmat = ps.triangulate_indices(spatial_index_values)\n",
    "        siv_triang = tri.Triangulation(lons,lats,intmat)\n",
    "        ax.triplot(siv_triang,transform=plot_options['transform'])\n",
    "    \n",
    "    if show:\n",
    "        plt.show()\n",
    "        \n",
    "    return figax\n",
    "\n",
    "def hex16(i):\n",
    "    return \"0x%016x\"%i\n",
    "\n",
    "km  = 1 # Unit of length\n",
    "deg = 1 # Unit of angle"
   ]
  },
  {
   "cell_type": "markdown",
   "metadata": {},
   "source": [
    "Read the indices from a small sample file - there are only 121 indices in this sample."
   ]
  },
  {
   "cell_type": "code",
   "execution_count": 3,
   "metadata": {},
   "outputs": [],
   "source": [
    "f = h5py.File('MYD09.A2019003_hacked_stare.h5', 'r')"
   ]
  },
  {
   "cell_type": "code",
   "execution_count": 4,
   "metadata": {},
   "outputs": [
    {
     "data": {
      "text/plain": [
       "<KeysViewHDF5 ['Latitude', 'Longitude', 'Stare_Index', 'X', 'Y']>"
      ]
     },
     "execution_count": 4,
     "metadata": {},
     "output_type": "execute_result"
    }
   ],
   "source": [
    "f.keys()\n"
   ]
  },
  {
   "cell_type": "code",
   "execution_count": 5,
   "metadata": {},
   "outputs": [],
   "source": [
    "s_index = f['Stare_Index']"
   ]
  },
  {
   "cell_type": "code",
   "execution_count": 6,
   "metadata": {},
   "outputs": [
    {
     "data": {
      "text/plain": [
       "<HDF5 dataset \"Stare_Index\": shape (121,), type \"<i8\">"
      ]
     },
     "execution_count": 6,
     "metadata": {},
     "output_type": "execute_result"
    }
   ],
   "source": [
    "s_index"
   ]
  },
  {
   "cell_type": "code",
   "execution_count": 7,
   "metadata": {},
   "outputs": [
    {
     "data": {
      "text/plain": [
       "(121,)"
      ]
     },
     "execution_count": 7,
     "metadata": {},
     "output_type": "execute_result"
    }
   ],
   "source": [
    "s_index.shape"
   ]
  },
  {
   "cell_type": "code",
   "execution_count": 8,
   "metadata": {},
   "outputs": [
    {
     "data": {
      "text/plain": [
       "dtype('int64')"
      ]
     },
     "execution_count": 8,
     "metadata": {},
     "output_type": "execute_result"
    }
   ],
   "source": [
    "s_index.dtype"
   ]
  },
  {
   "cell_type": "code",
   "execution_count": 9,
   "metadata": {},
   "outputs": [
    {
     "data": {
      "text/plain": [
       "array([3440016635821480923, 3440016636597740219, 3440016629613163483,\n",
       "       3440016719479414747, 3440016722200494331, 3440016719817182875,\n",
       "       3440016700119921947, 3440016705668400411, 3440016700675380891,\n",
       "       3440016228216299035])"
      ]
     },
     "execution_count": 9,
     "metadata": {},
     "output_type": "execute_result"
    }
   ],
   "source": [
    "s_index[0:10]"
   ]
  },
  {
   "cell_type": "code",
   "execution_count": 10,
   "metadata": {},
   "outputs": [],
   "source": [
    "# Set up the projection and transformation\n",
    "proj         = ccrs.PlateCarree()\n",
    "# proj        = ccrs.Robinson() # Drives matplotlib bug.\n",
    "# proj        = ccrs.Mollweide() # Drives matplotlib bug.\n",
    "transf       = ccrs.Geodetic()\n",
    "plot_options = {'projection':proj,'transform':transf}"
   ]
  },
  {
   "cell_type": "code",
   "execution_count": 11,
   "metadata": {},
   "outputs": [],
   "source": [
    "# ps.triangulate_indices(s_index)"
   ]
  },
  {
   "cell_type": "code",
   "execution_count": 12,
   "metadata": {},
   "outputs": [
    {
     "data": {
      "image/png": "[encoded data removed]",
      "text/plain": [
       "<Figure size 432x288 with 1 Axes>"
      ]
     },
     "metadata": {
      "needs_background": "light"
     },
     "output_type": "display_data"
    }
   ],
   "source": [
    "figax = add_coastlines(plt.subplots(1,subplot_kw=plot_options))\n",
    "\n",
    "# figax[1].set_extent([-100, -6, 31, 34], ccrs.PlateCarree())\n",
    "figax[1].gridlines(draw_labels=True, dms=True, x_inline=False, y_inline=False)\n",
    "\n",
    "figax = hello_plot(s_index,figax,show=True)\n",
    "\n",
    "# siv = 0 # STARE Spatial Index Value, geolocation bits are 0, resolution level is 0.\n",
    "# print(\"Spatial ID\",hex16(siv),siv)\n",
    "\n",
    "# figax = hello_plot([siv],figax)"
   ]
  },
  {
   "cell_type": "code",
   "execution_count": 15,
   "metadata": {},
   "outputs": [
    {
     "data": {
      "image/png": "[encoded data removed]",
      "text/plain": [
       "<Figure size 432x288 with 1 Axes>"
      ]
     },
     "metadata": {
      "needs_background": "light"
     },
     "output_type": "display_data"
    }
   ],
   "source": [
    "figax_res = add_coastlines(plt.subplots(1,subplot_kw=plot_options))\n",
    "\n",
    "# figax[1].set_extent([-100, -6, 31, 34], ccrs.PlateCarree())\n",
    "figax_res[1].gridlines(draw_labels=True, dms=True, x_inline=False, y_inline=False)\n",
    "\n",
    "f_res = h5py.File('MYD09.A2019003_hacked_stare_res.h5', 'r')\n",
    "s_index_res = f_res['Stare_Index']\n",
    "\n",
    "figax_res = hello_plot(s_index_res,figax_res,show=True)\n",
    "\n"
   ]
  },
  {
   "cell_type": "markdown",
   "metadata": {},
   "source": [
    "We can see that the stare indices with the resolution set are different values"
   ]
  },
  {
   "cell_type": "code",
   "execution_count": 19,
   "metadata": {},
   "outputs": [
    {
     "name": "stdout",
     "output_type": "stream",
     "text": [
      "[3440016635821480923 3440016636597740219 3440016629613163483\n",
      " 3440016719479414747 3440016722200494331 3440016719817182875\n",
      " 3440016700119921947 3440016705668400411 3440016700675380891\n",
      " 3440016228216299035 3440016232210672475 3440016633823675291\n",
      " 3440016630468775675 3440016614388901691 3440016732747651771\n",
      " 3440016737316657947 3440016736966712923 3440016694202203483\n",
      " 3440016692212685595 3440016691888029339 3440016256098292123\n",
      " 3440016257882577819 3440016618540755771 3440016618954593947\n",
      " 3440016614751113115 3440016734430819515 3440016739905655931\n",
      " 3440016737145070491 3440016695769201659 3440016696483270267\n",
      " 3440016693527482011 3440016257621636475 3440016258294365595\n",
      " 3440016617392130779 3440016620501988379 3440016728986652059\n",
      " 3440016733316379835 3440016741040054651 3440016709705577499\n",
      " 3440016694670283099 3440016698103688187 3440016692940444027\n",
      " 3440016239845166779 3440016259950441723 3440016555313781147\n",
      " 3440016620013565787 3440016729204831131 3440016729359608699\n",
      " 3440016739182414875 3440016709446474619 3440016709997867259\n",
      " 3440016696631323131 3440016241304464155 3440016240732435003\n",
      " 3440016252801530171 3440016552653747131 3440016613913292475\n",
      " 3440016731338124667 3440016730620085915 3440016736669978459\n",
      " 3440016713346176507 3440016714547164539 3440016691617463259\n",
      " 3440016235627869115 3440016241090023547 3440016253261184315\n",
      " 3440016553770282843 3440016612405017115 3440016725514725467\n",
      " 3440016727759498651 3440016735047229211 3440016712713291131\n",
      " 3440016708055096251 3440016689927977403 3440016235963711483\n",
      " 3440016237860581883 3440016251742222459 3440016553351242491\n",
      " 3440016612332087003 3440016724823646907 3440016727273660539\n",
      " 3440016734635497019 3440016711927121915 3440016708253914107\n",
      " 3440016706711577371 3440016235077457819 3440016237944693083\n",
      " 3440016236512407195 3440016570155164347 3440016509241443227\n",
      " 3440016656652451099 3440016660404206235 3440016663804735899\n",
      " 3440016649959913531 3440016647621976443 3440016277239134043\n",
      " 3440016296218343227 3440016299693896667 3440016298977663323\n",
      " 3440016570878990779 3440016509530517275 3440016656791365083\n",
      " 3440016661065401179 3440016665694541883 3440016649442670619\n",
      " 3440016653680287003 3440016279156599995 3440016295113972283\n",
      " 3440016302728994843 3440016324296817627 3440016576712387771\n",
      " 3440016510838903323 3440016662746423803 3440016662079153755\n",
      " 3440016665453621563 3440016649304825627 3440016654070917787\n",
      " 3440016277929348027 3440016295041245371 3440016301173674779\n",
      " 3440016323069484795]\n"
     ]
    }
   ],
   "source": [
    "print(s_index[:])"
   ]
  },
  {
   "cell_type": "code",
   "execution_count": 18,
   "metadata": {},
   "outputs": [
    {
     "name": "stdout",
     "output_type": "stream",
     "text": [
      "[3440016635821480910 3440016636597740206 3440016629613163470\n",
      " 3440016719479414734 3440016722200494318 3440016719817182862\n",
      " 3440016700119921934 3440016705668400398 3440016700675380878\n",
      " 3440016228216299022 3440016232210672462 3440016633823675278\n",
      " 3440016630468775662 3440016614388901678 3440016732747651758\n",
      " 3440016737316657934 3440016736966712910 3440016694202203470\n",
      " 3440016692212685582 3440016691888029326 3440016256098292110\n",
      " 3440016257882577806 3440016618540755758 3440016618954593934\n",
      " 3440016614751113102 3440016734430819502 3440016739905655918\n",
      " 3440016737145070478 3440016695769201646 3440016696483270254\n",
      " 3440016693527481998 3440016257621636462 3440016258294365582\n",
      " 3440016617392130766 3440016620501988366 3440016728986652046\n",
      " 3440016733316379822 3440016741040054638 3440016709705577486\n",
      " 3440016694670283086 3440016698103688174 3440016692940444014\n",
      " 3440016239845166766 3440016259950441710 3440016555313781134\n",
      " 3440016620013565774 3440016729204831118 3440016729359608686\n",
      " 3440016739182414862 3440016709446474606 3440016709997867246\n",
      " 3440016696631323118 3440016241304464142 3440016240732434990\n",
      " 3440016252801530158 3440016552653747118 3440016613913292462\n",
      " 3440016731338124654 3440016730620085902 3440016736669978446\n",
      " 3440016713346176494 3440016714547164526 3440016691617463246\n",
      " 3440016235627869102 3440016241090023534 3440016253261184302\n",
      " 3440016553770282830 3440016612405017102 3440016725514725454\n",
      " 3440016727759498638 3440016735047229198 3440016712713291118\n",
      " 3440016708055096238 3440016689927977390 3440016235963711470\n",
      " 3440016237860581870 3440016251742222446 3440016553351242478\n",
      " 3440016612332086990 3440016724823646894 3440016727273660526\n",
      " 3440016734635497006 3440016711927121902 3440016708253914094\n",
      " 3440016706711577358 3440016235077457806 3440016237944693070\n",
      " 3440016236512407182 3440016570155164334 3440016509241443214\n",
      " 3440016656652451086 3440016660404206222 3440016663804735886\n",
      " 3440016649959913518 3440016647621976430 3440016277239134030\n",
      " 3440016296218343214 3440016299693896654 3440016298977663310\n",
      " 3440016570878990766 3440016509530517262 3440016656791365070\n",
      " 3440016661065401166 3440016665694541870 3440016649442670606\n",
      " 3440016653680286990 3440016279156599982 3440016295113972270\n",
      " 3440016302728994830 3440016324296817614 3440016576712387758\n",
      " 3440016510838903310 3440016662746423790 3440016662079153742\n",
      " 3440016665453621550 3440016649304825614 3440016654070917774\n",
      " 3440016277929348014 3440016295041245358 3440016301173674766\n",
      " 3440016323069484782]\n"
     ]
    }
   ],
   "source": [
    "print(s_index_res[:])"
   ]
  },
  {
   "cell_type": "code",
   "execution_count": null,
   "metadata": {},
   "outputs": [],
   "source": []
  }
 ],
 "metadata": {
  "kernelspec": {
   "display_name": "Python (opendap)",
   "language": "python",
   "name": "opendap"
  },
  "language_info": {
   "codemirror_mode": {
    "name": "ipython",
    "version": 3
   },
   "file_extension": ".py",
   "mimetype": "text/x-python",
   "name": "python",
   "nbconvert_exporter": "python",
   "pygments_lexer": "ipython3",
   "version": "3.8.2"
  }
 },
 "nbformat": 4,
 "nbformat_minor": 4
}
