{
 "cells": [
  {
   "cell_type": "markdown",
   "metadata": {},
   "source": [
    "# Use h5py to build sample 'target' files"
   ]
  },
  {
   "cell_type": "code",
   "execution_count": 1,
   "metadata": {},
   "outputs": [],
   "source": [
    "import h5py\n",
    "import pystare as ps\n",
    "import numpy as np\n",
    "\n",
    "import matplotlib as mpl\n",
    "import matplotlib.pyplot as plt\n",
    "import matplotlib.tri as tri\n",
    "\n",
    "import cartopy\n",
    "import cartopy.crs as ccrs"
   ]
  },
  {
   "cell_type": "code",
   "execution_count": 2,
   "metadata": {},
   "outputs": [],
   "source": [
    "f = h5py.File('MYD09.A2019003_hacked_stare.h5', 'r')"
   ]
  },
  {
   "cell_type": "code",
   "execution_count": 3,
   "metadata": {},
   "outputs": [
    {
     "data": {
      "text/plain": [
       "<KeysViewHDF5 ['Latitude', 'Longitude', 'Stare_Index', 'X', 'Y']>"
      ]
     },
     "execution_count": 3,
     "metadata": {},
     "output_type": "execute_result"
    }
   ],
   "source": [
    "f.keys()"
   ]
  },
  {
   "cell_type": "markdown",
   "metadata": {},
   "source": [
    "### Determine the lat/lon 'box' for the base data"
   ]
  },
  {
   "cell_type": "code",
   "execution_count": 4,
   "metadata": {},
   "outputs": [
    {
     "name": "stdout",
     "output_type": "stream",
     "text": [
      "32.296478271484375 32.27122116088867\n"
     ]
    }
   ],
   "source": [
    "lat = f['Latitude'][:]\n",
    "print(lat.max(), lat.min())\n"
   ]
  },
  {
   "cell_type": "code",
   "execution_count": 5,
   "metadata": {},
   "outputs": [
    {
     "name": "stdout",
     "output_type": "stream",
     "text": [
      "-98.83241271972656 -98.89727783203125\n"
     ]
    }
   ],
   "source": [
    "lon = f['Longitude'][:]\n",
    "print(lon.max(), lon.min())\n"
   ]
  },
  {
   "cell_type": "markdown",
   "metadata": {},
   "source": [
    "### Build a target file/dataset the overlaps to the north and west"
   ]
  },
  {
   "cell_type": "code",
   "execution_count": null,
   "metadata": {},
   "outputs": [],
   "source": []
  },
  {
   "cell_type": "code",
   "execution_count": 6,
   "metadata": {},
   "outputs": [],
   "source": [
    "# Open/create the file\n",
    "\n",
    "f = h5py.File('Target_overlap_nw.h5','w')\n",
    "\n",
    "# numpy.arange([start, ]stop, [step, ], dtype=None) -> numpy.ndarray\n",
    "# numpy.reshape(a, newshape, order='C')\n",
    "\n",
    "v = np.arange(100, dtype=np.int16) # vector of 0..99\n",
    "v = np.reshape(v, (10,10)) # 2D 10x10\n",
    "\n",
    "dset = f.create_dataset(\"values\", data=v)\n",
    "\n"
   ]
  },
  {
   "cell_type": "code",
   "execution_count": 7,
   "metadata": {
    "scrolled": true
   },
   "outputs": [
    {
     "data": {
      "text/plain": [
       "<HDF5 dataset \"Latitude\": shape (10, 10), type \"<f8\">"
      ]
     },
     "execution_count": 7,
     "metadata": {},
     "output_type": "execute_result"
    }
   ],
   "source": [
    "lat_v = np.arange(32.315, 32.342, 0.003) # 10 values\n",
    "\n",
    "# Use column_stack to build a matrix where all the X-axis values are\n",
    "# the same and the Y-axis values vary \n",
    "\n",
    "lat_m = np.column_stack((lat_v, lat_v, lat_v, lat_v, lat_v, lat_v, lat_v, lat_v, lat_v, lat_v))\n",
    "\n",
    "f.create_dataset(\"Latitude\", data=lat_m)"
   ]
  },
  {
   "cell_type": "code",
   "execution_count": 8,
   "metadata": {},
   "outputs": [
    {
     "data": {
      "text/plain": [
       "<HDF5 dataset \"Longitude\": shape (10, 10), type \"<f8\">"
      ]
     },
     "execution_count": 8,
     "metadata": {},
     "output_type": "execute_result"
    }
   ],
   "source": [
    "lon_v = np.arange(-98.93, -98.867, 0.007)\n",
    "\n",
    "# row_stack makes the values vary along the x-axis\n",
    "\n",
    "lon_m = np.row_stack((lon_v, lon_v, lon_v, lon_v, lon_v, lon_v, lon_v, lon_v, lon_v, lon_v))\n",
    "\n",
    "f.create_dataset(\"Longitude\", data=lon_m)"
   ]
  },
  {
   "cell_type": "code",
   "execution_count": 9,
   "metadata": {},
   "outputs": [],
   "source": [
    "# Close the new file, write data\n",
    "f.close()"
   ]
  },
  {
   "cell_type": "markdown",
   "metadata": {},
   "source": [
    "### Build the STARE index sidecar files\n",
    "\n",
    "To do this, run `./build_sidecar -v -r -e \"_stare_res.h5\" Target_overlap_nw.h5 Latitude Longitude` and \n",
    "`./build_sidecar -v -e \"_stare.h5\" Target_overlap_nw.h5 Latitude Longitude` so there are both the level 27\n",
    "and level 27 with resolution bits set."
   ]
  },
  {
   "cell_type": "markdown",
   "metadata": {},
   "source": [
    "### Plot the Base and Target dataset's STARE indices"
   ]
  },
  {
   "cell_type": "code",
   "execution_count": null,
   "metadata": {},
   "outputs": [],
   "source": []
  }
 ],
 "metadata": {
  "kernelspec": {
   "display_name": "Python (opendap)",
   "language": "python",
   "name": "opendap"
  },
  "language_info": {
   "codemirror_mode": {
    "name": "ipython",
    "version": 3
   },
   "file_extension": ".py",
   "mimetype": "text/x-python",
   "name": "python",
   "nbconvert_exporter": "python",
   "pygments_lexer": "ipython3",
   "version": "3.8.2"
  }
 },
 "nbformat": 4,
 "nbformat_minor": 4
}
