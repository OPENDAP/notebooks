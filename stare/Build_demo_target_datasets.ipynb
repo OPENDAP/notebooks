{
 "cells": [
  {
   "cell_type": "markdown",
   "metadata": {},
   "source": [
    "# Use h5py to build sample 'target' files"
   ]
  },
  {
   "cell_type": "code",
   "execution_count": 1,
   "metadata": {},
   "outputs": [],
   "source": [
    "import h5py\n",
    "import numpy as np"
   ]
  },
  {
   "cell_type": "code",
   "execution_count": 2,
   "metadata": {},
   "outputs": [],
   "source": [
    "f = h5py.File('MYD09.A2019003_hacked_stare.h5', 'r')"
   ]
  },
  {
   "cell_type": "code",
   "execution_count": 3,
   "metadata": {},
   "outputs": [
    {
     "data": {
      "text/plain": [
       "<KeysViewHDF5 ['Latitude', 'Longitude', 'Stare_Index', 'X', 'Y']>"
      ]
     },
     "execution_count": 3,
     "metadata": {},
     "output_type": "execute_result"
    }
   ],
   "source": [
    "f.keys()"
   ]
  },
  {
   "cell_type": "markdown",
   "metadata": {},
   "source": [
    "### Determine the lat/lon 'box' for the base data"
   ]
  },
  {
   "cell_type": "code",
   "execution_count": 4,
   "metadata": {},
   "outputs": [
    {
     "name": "stdout",
     "output_type": "stream",
     "text": [
      "32.296478271484375 32.27122116088867\n"
     ]
    }
   ],
   "source": [
    "lat = f['Latitude'][:]\n",
    "print(lat.max(), lat.min())\n"
   ]
  },
  {
   "cell_type": "code",
   "execution_count": 5,
   "metadata": {},
   "outputs": [
    {
     "name": "stdout",
     "output_type": "stream",
     "text": [
      "-98.83241271972656 -98.89727783203125\n"
     ]
    }
   ],
   "source": [
    "lon = f['Longitude'][:]\n",
    "print(lon.max(), lon.min())\n"
   ]
  },
  {
   "cell_type": "markdown",
   "metadata": {},
   "source": [
    "### Build a target file/dataset the overlaps to the north and west"
   ]
  },
  {
   "cell_type": "code",
   "execution_count": 7,
   "metadata": {},
   "outputs": [
    {
     "ename": "OSError",
     "evalue": "Unable to create file (unable to truncate a file which is already open)",
     "output_type": "error",
     "traceback": [
      "\u001b[0;31m---------------------------------------------------------------------------\u001b[0m",
      "\u001b[0;31mOSError\u001b[0m                                   Traceback (most recent call last)",
      "\u001b[0;32m<ipython-input-7-af76a8f2c362>\u001b[0m in \u001b[0;36m<module>\u001b[0;34m\u001b[0m\n\u001b[1;32m      1\u001b[0m \u001b[0;31m# Open/create the file\u001b[0m\u001b[0;34m\u001b[0m\u001b[0;34m\u001b[0m\u001b[0;34m\u001b[0m\u001b[0m\n\u001b[1;32m      2\u001b[0m \u001b[0;34m\u001b[0m\u001b[0m\n\u001b[0;32m----> 3\u001b[0;31m \u001b[0mf\u001b[0m \u001b[0;34m=\u001b[0m \u001b[0mh5py\u001b[0m\u001b[0;34m.\u001b[0m\u001b[0mFile\u001b[0m\u001b[0;34m(\u001b[0m\u001b[0;34m'Target_overlap_nw.h5'\u001b[0m\u001b[0;34m,\u001b[0m\u001b[0;34m'w'\u001b[0m\u001b[0;34m)\u001b[0m\u001b[0;34m\u001b[0m\u001b[0;34m\u001b[0m\u001b[0m\n\u001b[0m\u001b[1;32m      4\u001b[0m \u001b[0;34m\u001b[0m\u001b[0m\n\u001b[1;32m      5\u001b[0m \u001b[0;31m# numpy.arange([start, ]stop, [step, ], dtype=None) -> numpy.ndarray\u001b[0m\u001b[0;34m\u001b[0m\u001b[0;34m\u001b[0m\u001b[0;34m\u001b[0m\u001b[0m\n",
      "\u001b[0;32m~/anaconda3/lib/python3.7/site-packages/h5py/_hl/files.py\u001b[0m in \u001b[0;36m__init__\u001b[0;34m(self, name, mode, driver, libver, userblock_size, swmr, rdcc_nslots, rdcc_nbytes, rdcc_w0, track_order, **kwds)\u001b[0m\n\u001b[1;32m    392\u001b[0m                 fid = make_fid(name, mode, userblock_size,\n\u001b[1;32m    393\u001b[0m                                \u001b[0mfapl\u001b[0m\u001b[0;34m,\u001b[0m \u001b[0mfcpl\u001b[0m\u001b[0;34m=\u001b[0m\u001b[0mmake_fcpl\u001b[0m\u001b[0;34m(\u001b[0m\u001b[0mtrack_order\u001b[0m\u001b[0;34m=\u001b[0m\u001b[0mtrack_order\u001b[0m\u001b[0;34m)\u001b[0m\u001b[0;34m,\u001b[0m\u001b[0;34m\u001b[0m\u001b[0;34m\u001b[0m\u001b[0m\n\u001b[0;32m--> 394\u001b[0;31m                                swmr=swmr)\n\u001b[0m\u001b[1;32m    395\u001b[0m \u001b[0;34m\u001b[0m\u001b[0m\n\u001b[1;32m    396\u001b[0m             \u001b[0;32mif\u001b[0m \u001b[0mswmr_support\u001b[0m\u001b[0;34m:\u001b[0m\u001b[0;34m\u001b[0m\u001b[0;34m\u001b[0m\u001b[0m\n",
      "\u001b[0;32m~/anaconda3/lib/python3.7/site-packages/h5py/_hl/files.py\u001b[0m in \u001b[0;36mmake_fid\u001b[0;34m(name, mode, userblock_size, fapl, fcpl, swmr)\u001b[0m\n\u001b[1;32m    174\u001b[0m         \u001b[0mfid\u001b[0m \u001b[0;34m=\u001b[0m \u001b[0mh5f\u001b[0m\u001b[0;34m.\u001b[0m\u001b[0mcreate\u001b[0m\u001b[0;34m(\u001b[0m\u001b[0mname\u001b[0m\u001b[0;34m,\u001b[0m \u001b[0mh5f\u001b[0m\u001b[0;34m.\u001b[0m\u001b[0mACC_EXCL\u001b[0m\u001b[0;34m,\u001b[0m \u001b[0mfapl\u001b[0m\u001b[0;34m=\u001b[0m\u001b[0mfapl\u001b[0m\u001b[0;34m,\u001b[0m \u001b[0mfcpl\u001b[0m\u001b[0;34m=\u001b[0m\u001b[0mfcpl\u001b[0m\u001b[0;34m)\u001b[0m\u001b[0;34m\u001b[0m\u001b[0;34m\u001b[0m\u001b[0m\n\u001b[1;32m    175\u001b[0m     \u001b[0;32melif\u001b[0m \u001b[0mmode\u001b[0m \u001b[0;34m==\u001b[0m \u001b[0;34m'w'\u001b[0m\u001b[0;34m:\u001b[0m\u001b[0;34m\u001b[0m\u001b[0;34m\u001b[0m\u001b[0m\n\u001b[0;32m--> 176\u001b[0;31m         \u001b[0mfid\u001b[0m \u001b[0;34m=\u001b[0m \u001b[0mh5f\u001b[0m\u001b[0;34m.\u001b[0m\u001b[0mcreate\u001b[0m\u001b[0;34m(\u001b[0m\u001b[0mname\u001b[0m\u001b[0;34m,\u001b[0m \u001b[0mh5f\u001b[0m\u001b[0;34m.\u001b[0m\u001b[0mACC_TRUNC\u001b[0m\u001b[0;34m,\u001b[0m \u001b[0mfapl\u001b[0m\u001b[0;34m=\u001b[0m\u001b[0mfapl\u001b[0m\u001b[0;34m,\u001b[0m \u001b[0mfcpl\u001b[0m\u001b[0;34m=\u001b[0m\u001b[0mfcpl\u001b[0m\u001b[0;34m)\u001b[0m\u001b[0;34m\u001b[0m\u001b[0;34m\u001b[0m\u001b[0m\n\u001b[0m\u001b[1;32m    177\u001b[0m     \u001b[0;32melif\u001b[0m \u001b[0mmode\u001b[0m \u001b[0;34m==\u001b[0m \u001b[0;34m'a'\u001b[0m\u001b[0;34m:\u001b[0m\u001b[0;34m\u001b[0m\u001b[0;34m\u001b[0m\u001b[0m\n\u001b[1;32m    178\u001b[0m         \u001b[0;31m# Open in append mode (read/write).\u001b[0m\u001b[0;34m\u001b[0m\u001b[0;34m\u001b[0m\u001b[0;34m\u001b[0m\u001b[0m\n",
      "\u001b[0;32mh5py/_objects.pyx\u001b[0m in \u001b[0;36mh5py._objects.with_phil.wrapper\u001b[0;34m()\u001b[0m\n",
      "\u001b[0;32mh5py/_objects.pyx\u001b[0m in \u001b[0;36mh5py._objects.with_phil.wrapper\u001b[0;34m()\u001b[0m\n",
      "\u001b[0;32mh5py/h5f.pyx\u001b[0m in \u001b[0;36mh5py.h5f.create\u001b[0;34m()\u001b[0m\n",
      "\u001b[0;31mOSError\u001b[0m: Unable to create file (unable to truncate a file which is already open)"
     ]
    }
   ],
   "source": [
    "# Open/create the file\n",
    "\n",
    "f = h5py.File('Target_overlap_nw.h5','w')\n",
    "\n",
    "# numpy.arange([start, ]stop, [step, ], dtype=None) -> numpy.ndarray\n",
    "# numpy.reshape(a, newshape, order='C')\n",
    "\n",
    "v = np.arange(100, dtype=np.int16) # vector of 0..99\n",
    "v = np.reshape(v, (10,10)) # 2D 10x10\n",
    "\n",
    "dset = f.create_dataset(\"values\", data=v)\n",
    "\n"
   ]
  },
  {
   "cell_type": "code",
   "execution_count": 8,
   "metadata": {
    "scrolled": true
   },
   "outputs": [
    {
     "name": "stdout",
     "output_type": "stream",
     "text": [
      "[[32.315 32.315 32.315 32.315 32.315 32.315 32.315 32.315 32.315 32.315]\n",
      " [32.312 32.312 32.312 32.312 32.312 32.312 32.312 32.312 32.312 32.312]\n",
      " [32.309 32.309 32.309 32.309 32.309 32.309 32.309 32.309 32.309 32.309]\n",
      " [32.306 32.306 32.306 32.306 32.306 32.306 32.306 32.306 32.306 32.306]\n",
      " [32.303 32.303 32.303 32.303 32.303 32.303 32.303 32.303 32.303 32.303]\n",
      " [32.3   32.3   32.3   32.3   32.3   32.3   32.3   32.3   32.3   32.3  ]\n",
      " [32.297 32.297 32.297 32.297 32.297 32.297 32.297 32.297 32.297 32.297]\n",
      " [32.294 32.294 32.294 32.294 32.294 32.294 32.294 32.294 32.294 32.294]\n",
      " [32.291 32.291 32.291 32.291 32.291 32.291 32.291 32.291 32.291 32.291]\n",
      " [32.288 32.288 32.288 32.288 32.288 32.288 32.288 32.288 32.288 32.288]]\n"
     ]
    }
   ],
   "source": [
    "# lat_v = np.arange(32.315, 32.342, 0.003) # 10 values\n",
    "lat_v = np.arange(32.315, 32.288, -0.003) # 10 values\n",
    "\n",
    "# Use column_stack to build a matrix where all the X-axis values are\n",
    "# the same and the Y-axis values vary \n",
    "\n",
    "lat_m = np.column_stack((lat_v, lat_v, lat_v, lat_v, lat_v, lat_v, lat_v, lat_v, lat_v, lat_v))\n",
    "\n",
    "print(lat_m)"
   ]
  },
  {
   "cell_type": "code",
   "execution_count": 9,
   "metadata": {},
   "outputs": [
    {
     "data": {
      "text/plain": [
       "<HDF5 dataset \"Latitude\": shape (10, 10), type \"<f8\">"
      ]
     },
     "execution_count": 9,
     "metadata": {},
     "output_type": "execute_result"
    }
   ],
   "source": [
    "f.create_dataset(\"Latitude\", data=lat_m)"
   ]
  },
  {
   "cell_type": "code",
   "execution_count": 10,
   "metadata": {},
   "outputs": [
    {
     "name": "stdout",
     "output_type": "stream",
     "text": [
      "[[-98.93  -98.923 -98.916 -98.909 -98.902 -98.895 -98.888 -98.881 -98.874\n",
      "  -98.867]\n",
      " [-98.93  -98.923 -98.916 -98.909 -98.902 -98.895 -98.888 -98.881 -98.874\n",
      "  -98.867]\n",
      " [-98.93  -98.923 -98.916 -98.909 -98.902 -98.895 -98.888 -98.881 -98.874\n",
      "  -98.867]\n",
      " [-98.93  -98.923 -98.916 -98.909 -98.902 -98.895 -98.888 -98.881 -98.874\n",
      "  -98.867]\n",
      " [-98.93  -98.923 -98.916 -98.909 -98.902 -98.895 -98.888 -98.881 -98.874\n",
      "  -98.867]\n",
      " [-98.93  -98.923 -98.916 -98.909 -98.902 -98.895 -98.888 -98.881 -98.874\n",
      "  -98.867]\n",
      " [-98.93  -98.923 -98.916 -98.909 -98.902 -98.895 -98.888 -98.881 -98.874\n",
      "  -98.867]\n",
      " [-98.93  -98.923 -98.916 -98.909 -98.902 -98.895 -98.888 -98.881 -98.874\n",
      "  -98.867]\n",
      " [-98.93  -98.923 -98.916 -98.909 -98.902 -98.895 -98.888 -98.881 -98.874\n",
      "  -98.867]\n",
      " [-98.93  -98.923 -98.916 -98.909 -98.902 -98.895 -98.888 -98.881 -98.874\n",
      "  -98.867]]\n"
     ]
    }
   ],
   "source": [
    "lon_v = np.arange(-98.93, -98.867, 0.007)\n",
    "\n",
    "# row_stack makes the values vary along the x-axis\n",
    "\n",
    "lon_m = np.row_stack((lon_v, lon_v, lon_v, lon_v, lon_v, lon_v, lon_v, lon_v, lon_v, lon_v))\n",
    "\n",
    "print(lon_m)"
   ]
  },
  {
   "cell_type": "code",
   "execution_count": 11,
   "metadata": {},
   "outputs": [
    {
     "data": {
      "text/plain": [
       "<HDF5 dataset \"Longitude\": shape (10, 10), type \"<f8\">"
      ]
     },
     "execution_count": 11,
     "metadata": {},
     "output_type": "execute_result"
    }
   ],
   "source": [
    "f.create_dataset(\"Longitude\", data=lon_m)"
   ]
  },
  {
   "cell_type": "code",
   "execution_count": 12,
   "metadata": {},
   "outputs": [],
   "source": [
    "# Close the new file, write data\n",
    "f.close()"
   ]
  },
  {
   "cell_type": "markdown",
   "metadata": {},
   "source": [
    "### Build the STARE index sidecar files\n",
    "\n",
    "To do this, run `./build_sidecar -v -r -e \"_stare_res.h5\" Target_overlap_nw.h5 Latitude Longitude` and \n",
    "`./build_sidecar -v -e \"_stare.h5\" Target_overlap_nw.h5 Latitude Longitude` so there are both the level 27\n",
    "and level 27 with resolution bits set."
   ]
  },
  {
   "cell_type": "markdown",
   "metadata": {},
   "source": [
    "### Check the lat/lon coordinates in the Target dataset"
   ]
  },
  {
   "cell_type": "code",
   "execution_count": 13,
   "metadata": {},
   "outputs": [],
   "source": [
    "# This works only after running build_sidecar as above\n",
    "# \n",
    "# t = h5py.File('Target_overlap_nw_stare.h5', 'r')\n",
    "# lat = t['Latitude'][:]\n",
    "# print(lat.max(), lat.min())\n",
    "# lon = t['Longitude'][:]\n",
    "# print(lon.max(), lon.min())\n"
   ]
  }
 ],
 "metadata": {
  "kernelspec": {
   "display_name": "Python 3",
   "language": "python",
   "name": "python3"
  },
  "language_info": {
   "codemirror_mode": {
    "name": "ipython",
    "version": 3
   },
   "file_extension": ".py",
   "mimetype": "text/x-python",
   "name": "python",
   "nbconvert_exporter": "python",
   "pygments_lexer": "ipython3",
   "version": "3.7.3"
  }
 },
 "nbformat": 4,
 "nbformat_minor": 4
}
