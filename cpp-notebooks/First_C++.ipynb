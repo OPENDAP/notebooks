{
 "cells": [
  {
   "cell_type": "markdown",
   "metadata": {},
   "source": [
    "This notebook uses the cling C++ Jupyter kernel\n",
    "\n",
    "See http://bryanliu.ch/writing-cpp-in-jupyter-notebook/ for more information."
   ]
  },
  {
   "cell_type": "code",
   "execution_count": 6,
   "metadata": {},
   "outputs": [
    {
     "name": "stdout",
     "output_type": "stream",
     "text": [
      "This is a test\n",
      "1 2 3 5 \n"
     ]
    },
    {
     "data": {
      "text/plain": [
       "(std::basic_ostream &) @0x7fff912be660\n"
      ]
     },
     "execution_count": 6,
     "metadata": {},
     "output_type": "execute_result"
    }
   ],
   "source": [
    "// Include iostream to get cout\n",
    "\n",
    "#include <iostream>\n",
    "#include <vector>\n",
    "\n",
    "using namespace std;\n",
    "\n",
    "// No Main needed to run code\n",
    "cout << \"This is a test\" << endl;\n",
    "\n",
    "vector<int> x;\n",
    "\n",
    "x.push_back(1);\n",
    "x.push_back(2);\n",
    "x.push_back(3);\n",
    "x.push_back(5);\n",
    "\n",
    "for (int i: x) {\n",
    "    cout << i << \" \";\n",
    "}\n",
    "\n",
    "cout << endl;\n"
   ]
  },
  {
   "cell_type": "code",
   "execution_count": 7,
   "metadata": {},
   "outputs": [
    {
     "name": "stderr",
     "output_type": "stream",
     "text": [
      "\u001b[1minput_line_9:1:10: \u001b[0m\u001b[0;1;35mwarning: \u001b[0m\u001b[1mmissing terminating '\"' character [-Winvalid-pp-token]\u001b[0m\n",
      "#include \"libdap\n",
      "\u001b[0;1;32m         ^\n",
      "\u001b[0m\u001b[1minput_line_9:1:10: \u001b[0m\u001b[0;1;31merror: \u001b[0m\u001b[1mexpected \"FILENAME\" or <FILENAME>\u001b[0m\n",
      "\u001b[1minput_line_9:2:1: \u001b[0m\u001b[0;1;35mwarning: \u001b[0m\u001b[1mmissing terminating '\"' character [-Winvalid-pp-token]\u001b[0m\n",
      "\"\n",
      "\u001b[0;1;32m^\n",
      "\u001b[0m\u001b[1minput_line_9:2:1: \u001b[0m\u001b[0;1;31merror: \u001b[0m\u001b[1mexpected unqualified-id\u001b[0m\n"
     ]
    },
    {
     "ename": "ename",
     "evalue": "evalue",
     "output_type": "error",
     "traceback": []
    }
   ],
   "source": [
    ".L libdap\n"
   ]
  }
 ],
 "metadata": {
  "kernelspec": {
   "display_name": "C++11",
   "language": "C++",
   "name": "cling-cpp11"
  },
  "language_info": {
   "codemirror_mode": "c++",
   "file_extension": ".c++",
   "mimetype": "text/x-c++src",
   "name": "c++"
  }
 },
 "nbformat": 4,
 "nbformat_minor": 4
}
